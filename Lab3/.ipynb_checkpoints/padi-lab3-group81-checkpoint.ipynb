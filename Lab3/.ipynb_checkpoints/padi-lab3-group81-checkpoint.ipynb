{
 "cells": [
  {
   "cell_type": "markdown",
   "metadata": {},
   "source": [
    "# Learning and Decision Making"
   ]
  },
  {
   "cell_type": "markdown",
   "metadata": {},
   "source": [
    "## Laboratory 3: The betting domain\n",
    "\n",
    "In the end of the lab, you should export the notebook to a Python script (File >> Download as >> Python (.py)). Your file should be named `padi-lab3-groupXX.py`, where the `XX` corresponds to your group number and should be submitted to the e-mail <adi.tecnico@gmail.com>. \n",
    "\n",
    "Make sure...\n",
    "\n",
    "* **... that the subject is of the form `[<group n.>] LAB <lab n.>`.** \n",
    "\n",
    "* **... to strictly respect the specifications in each activity, in terms of the intended inputs, outputs and naming conventions.** \n",
    "\n",
    "In particular, after completing the activities you should be able to replicate the examples provided (although this, in itself, is no guarantee that the activities are correctly completed)."
   ]
  },
  {
   "cell_type": "markdown",
   "metadata": {},
   "source": [
    "### 1. The POMDP model\n",
    "\n",
    "Consider once again the POMDP problem from the homework. In this lab you will interact with a larger version of the same problem, corresponding to the following betting game. The game proceeds in rounds. At each round:\n",
    "\n",
    "* The player is dealt a random card from the set {A&spades;, K&spades;, Q&spades;}. The card is left facing down.\n",
    "* The player must then either bet about which card he/she was dealt, or quit. There is a cost associated to quitting, but which is inferior to that of losing.\n",
    "* After betting/quitting, the card is revealed and the round ends. \n",
    "* Before betting, the player may also try to peek which card he/she was dealt (which is cheating). Of course that there is a risk associated with peeking (modeled as a cost). Peeking may or may not succeed.\n",
    "\n",
    "This game can be summarized as depicted below, where we have ommitted the transition labels to avoid cluttering the diagram.\n",
    "\n",
    "<img src=\"pomdp.png\" width=\"600px\">\n",
    "\n",
    "$$\\diamond$$"
   ]
  },
  {
   "cell_type": "markdown",
   "metadata": {},
   "source": [
    "In this first activity, you will implement an POMDP model in Python. You will start by loading the POMDP information from a `numpy` binary file, using the `numpy` function `load`. The file contains the list of states, actions, observations, transition probability matrices, observation probability matrices, and cost function.\n",
    "\n",
    "---\n",
    "\n",
    "#### Activity 1.        \n",
    "\n",
    "Write a function named `load_pomdp` that receives, as input, a string corresponding to the name of the file with the POMDP information, and a real number $\\gamma$ between $0$ and $1$. The loaded file contains 6 arrays:\n",
    "\n",
    "* An array `S` that contains all the states in the POMDP. There is a total of $14$ states describing the different stages in the game:\n",
    "\n",
    "    * $I$ represents the initial state of the game, before the cards are dealt.\n",
    "    * $2A$, $2B$ and $2C$ represents the \"dealt cards\" states. The player only observes that the card has been dealt (corresponding to observation \"2\"), but does not know which of the three cards (\"A\", \"B\" or \"C\") it has.\n",
    "    * $A$, $B$ and $C$ correspond to the states where the player peeked into the hidden card. For example, $A$ represents the state where the player was dealt card \"A\" and peeked into it. These states are reached from $2A$, $2B$ and $2C$, respectively, upon selecting the action \"Peek\".\n",
    "    * States $3A$, $3B$ and $3C$ correspond to the states where the player bets. For example, $3A$ represents the state where the player was dealt card \"A\" and must now make a bet, which can be $A$, $B$ or $C$.\n",
    "    * States $W$ and $L$ correspond to winning and losing the game. State $Q$ corresponds to the \"Quit\" state.\n",
    "    * State $F$ represents the final state of the game, right before the game resets.\n",
    "    \n",
    "* An array `A` that contains all the actions in the POMDP. The actions are denoted generically as $a$, $b$ and $c$, but represent different actions depending on the stage of the game. For example, in state $I$, since the agent does nothing but await the shuffle, all actions are equivalent and correspond to \"Waiting\". However, in the dealt states, the actions $a$, $b$ and $c$ correspond, respectively, to the actions \"Peek\", \"Bet\" and \"Quit\", respectively. In the betting states, actions $a$, $b$ and $c$ correspond to betting $A$, $B$ and $C$, respectively.\n",
    "* An array `Z` that contains all the observations in the POMDP. There is a total of 10 observations, corresponding to the observable features of the state: $I$, $2$, $A$, $B$, $C$, $3$, $W$, $Q$, $L$, $F$.\n",
    "* An array `P` containing 3 $14\\times 14$ sub-arrays, each corresponding to the transition probability matrix for one action.\n",
    "* An array `O` containing 3 $14\\times 10$ sub-arrays, each corresponding to the observation probability matrix for one action.\n",
    "* An array `c` containing the cost function for the POMDP.\n",
    "\n",
    "Your function should create the POMDP as a tuple `(S, A, Z, (Pa, a = 0, ..., 2), (Oa, a = 0, ..., 2), c, g)`, where `S` is a tuple containing the states in the POMDP represented as strings (see above), `A` is a tuple containing the actions in the POMDP represented as strings (see above), `Z` is a tuple containing the observations in the POMDP represented as strings (see above), `P` is a tuple with 3 elements, where `P[u]` is an np.array corresponding to the transition probability matrix for action `u`, `O` is a tuple with 3 elements, where `O[u]` is an np.array corresponding to the observation probability matrix for action `u`, `c` is an np.array corresponding to the cost function for the POMDP, and `g` is a float, corresponding to the discount and provided as the argument $\\gamma$ of your function. Your function should return the POMDP tuple.\n",
    "\n",
    "**Note**: Don't forget to import `numpy`.\n",
    "\n",
    "---"
   ]
  },
  {
   "cell_type": "code",
   "execution_count": 1,
   "metadata": {
    "ExecuteTime": {
     "end_time": "2019-11-12T18:32:47.208552Z",
     "start_time": "2019-11-12T18:32:46.533353Z"
    },
    "scrolled": false
   },
   "outputs": [],
   "source": [
    "import numpy as np\n",
    "\n",
    "def load_pomdp(filename, gamma = 0.9):\n",
    "    with np.load(filename) as data:\n",
    "        S = data['S']\n",
    "        A = data['A']\n",
    "        Z = data['Z']\n",
    "        P = data['P']\n",
    "        O = data['O']\n",
    "        c = data['c']\n",
    "    M = S,A,Z,P,O,c,gamma\n",
    "    return M"
   ]
  },
  {
   "cell_type": "markdown",
   "metadata": {},
   "source": [
    "We provide below an example of application of the function with the file `pomdp.npz` that you can use as a first \"sanity check\" for your code.\n",
    "\n",
    "```python\n",
    "import numpy.random as rand\n",
    "\n",
    "M = load_pomdp('pomdp.npz', 0.99)\n",
    "\n",
    "rand.seed(42)\n",
    "\n",
    "# States\n",
    "print('Number of states:', len(M[0]))\n",
    "\n",
    "# Random state\n",
    "s = rand.randint(len(M[0]))\n",
    "print('Random state:', M[0][s])\n",
    "\n",
    "# Actions\n",
    "print('Number of actions:', len(M[1]))\n",
    "\n",
    "# Random action\n",
    "a = rand.randint(len(M[1]))\n",
    "print('Random action:', M[1][a])\n",
    "\n",
    "# Observations\n",
    "print('Number of observations:', len(M[2]))\n",
    "\n",
    "# Random observation\n",
    "z = rand.randint(len(M[2]))\n",
    "print('Random observation:', M[2][z])\n",
    "\n",
    "# Transition probabilities\n",
    "print('Transition probabilities for the selected state/action:')\n",
    "print(M[3][a][s, :])\n",
    "\n",
    "# Observation probabilities\n",
    "print('Observation probabilities for the selected state/action:')\n",
    "print(M[4][a][s, :])\n",
    "\n",
    "# Cost\n",
    "print('Cost for the selected state/action:')\n",
    "print(M[5][s, a])\n",
    "\n",
    "# Discount\n",
    "print('Discount:', M[6])\n",
    "```\n",
    "\n",
    "Output:\n",
    "\n",
    "```\n",
    "Number of states: 14\n",
    "Random state: C\n",
    "Number of actions: 3\n",
    "Random action: a\n",
    "Number of observations: 10\n",
    "Random observation: Q\n",
    "Transition probabilities for the selected state/action:\n",
    "[0. 0. 0. 1. 0. 0. 0. 0. 0. 0. 0. 0. 0. 0.]\n",
    "Observation probabilities for the selected state/action:\n",
    "[0. 0. 0. 0. 1. 0. 0. 0. 0. 0.]\n",
    "Cost for the selected state/action:\n",
    "0.0\n",
    "Discount: 0.99\n",
    "```"
   ]
  },
  {
   "cell_type": "code",
   "execution_count": 2,
   "metadata": {
    "ExecuteTime": {
     "end_time": "2019-11-12T18:32:47.342191Z",
     "start_time": "2019-11-12T18:32:47.219521Z"
    }
   },
   "outputs": [
    {
     "name": "stdout",
     "output_type": "stream",
     "text": [
      "Number of states: 14\n",
      "Random state: C\n",
      "Number of actions: 3\n",
      "Random action: a\n",
      "Number of observations: 10\n",
      "Random observation: Q\n",
      "Transition probabilities for the selected state/action:\n",
      "[0. 0. 0. 1. 0. 0. 0. 0. 0. 0. 0. 0. 0. 0.]\n",
      "Observation probabilities for the selected state/action:\n",
      "[0. 0. 0. 0. 1. 0. 0. 0. 0. 0.]\n",
      "Cost for the selected state/action:\n",
      "0.0\n",
      "Discount: 0.99\n"
     ]
    }
   ],
   "source": [
    "import numpy.random as rand\n",
    "\n",
    "M = load_pomdp('pomdp.npz', 0.99)\n",
    "\n",
    "rand.seed(42)\n",
    "\n",
    "# States\n",
    "print('Number of states:', len(M[0]))\n",
    "\n",
    "# Random state\n",
    "s = rand.randint(len(M[0]))\n",
    "print('Random state:', M[0][s])\n",
    "\n",
    "# Actions\n",
    "print('Number of actions:', len(M[1]))\n",
    "\n",
    "# Random action\n",
    "a = rand.randint(len(M[1]))\n",
    "print('Random action:', M[1][a])\n",
    "\n",
    "# Observations\n",
    "print('Number of observations:', len(M[2]))\n",
    "\n",
    "# Random observation\n",
    "z = rand.randint(len(M[2]))\n",
    "print('Random observation:', M[2][z])\n",
    "\n",
    "# Transition probabilities\n",
    "print('Transition probabilities for the selected state/action:')\n",
    "print(M[3][a][s, :])\n",
    "\n",
    "# Observation probabilities\n",
    "print('Observation probabilities for the selected state/action:')\n",
    "print(M[4][a][s, :])\n",
    "\n",
    "# Cost\n",
    "print('Cost for the selected state/action:')\n",
    "print(M[5][s, a])\n",
    "\n",
    "# Discount\n",
    "print('Discount:', M[6])"
   ]
  },
  {
   "cell_type": "markdown",
   "metadata": {},
   "source": [
    "### 2. Sampling\n",
    "\n",
    "You are now going to sample random trajectories of your POMDP and observe the impact it has on the corresponding belief."
   ]
  },
  {
   "cell_type": "markdown",
   "metadata": {
    "raw_mimetype": "text/latex"
   },
   "source": [
    "---\n",
    "\n",
    "#### Activity 2.\n",
    "\n",
    "Write a function called `gen_trajectory` that generates a random POMDP trajectory using a uniformly random policy. Your function should receive, as input, a POMDP described as a tuple like that from **Activity 1** and two integers, `x0` and `n` and return a tuple with 3 elements, where:\n",
    "\n",
    "1. The first element is a `numpy` array corresponding to a sequence of `n+1` state indices, $x_0,x_1,\\ldots,x_n$, visited by the agent when following a uniform policy (i.e., a policy where actions are selected uniformly at random) from state with index `x0`. In other words, you should select $x_1$ from $x_0$ using a random action; then $x_2$ from $x_1$, etc.\n",
    "2. The second element is a `numpy` array corresponding to the sequence of `n` action indices, $a_0,\\ldots,a_{n-1}$, used in the generation of the trajectory in 1.;\n",
    "* The third element is a `numpy` array corresponding to the sequence of `n` observation indices, $z_1,\\ldots,z_n$, experienced by the agent during the trajectory in 1.\n",
    "\n",
    "The observation and action `numpy` arrays should have a shape `(n,)`; the state `numpy` array should have a shape `(n + 1,)`.\n",
    "\n",
    "**Note:** You may find useful to import the numpy module `numpy.random`.\n",
    "\n",
    "---"
   ]
  },
  {
   "cell_type": "code",
   "execution_count": 3,
   "metadata": {
    "ExecuteTime": {
     "end_time": "2019-11-12T18:32:47.409016Z",
     "start_time": "2019-11-12T18:32:47.356157Z"
    },
    "scrolled": false
   },
   "outputs": [],
   "source": [
    "import numpy.random as rand\n",
    "\n",
    "def gen_trajectory(M, x0, n):\n",
    "    states    = np.empty((n+1,), dtype=int)\n",
    "    states[0] = x0\n",
    "    actions   = np.empty((n,), dtype=int)\n",
    "    obs       = np.empty((n,), dtype=int)\n",
    "    \n",
    "    n_actions = len(M[1])\n",
    "    n_states  = len(M[0])\n",
    "    n_obs     = len(M[2])\n",
    "    for i in range(n):\n",
    "        a           = rand.choice(n_actions) # selected random action\n",
    "        actions[i]  = a\n",
    "        \n",
    "        prob        = M[3][a][states[i],:] # transition for the next states\n",
    "        next_s      = rand.choice(n_states, p=prob)\n",
    "        states[i+1] = next_s\n",
    "        \n",
    "        obs_prob    = M[4][a][next_s, :]\n",
    "        z           = rand.choice(n_obs,p=obs_prob)\n",
    "        obs[i]      = z\n",
    "    \n",
    "    return states,actions,obs"
   ]
  },
  {
   "cell_type": "markdown",
   "metadata": {},
   "source": [
    "As an example, you can run the following code on the POMDP from **Activity 1**.\n",
    "\n",
    "```python\n",
    "rand.seed(42)\n",
    "\n",
    "# Trajectory of 10 steps from state I - state index 0\n",
    "t = gen_trajectory(M, 0,  10)\n",
    "\n",
    "print('States:', t[0])\n",
    "print('Actions:', t[1])\n",
    "print('Observations:', t[2])\n",
    "\n",
    "# Check states, actions and observations in the trajectory\n",
    "print('Trajectory:\\n{', end='')\n",
    "\n",
    "for idx in range(10):\n",
    "    ste = t[0][idx]\n",
    "    act = t[1][idx]\n",
    "    obs = t[2][idx]\n",
    "    \n",
    "    print('(' + M[0][ste], end=', ')\n",
    "    print(M[1][act], end=', ')\n",
    "    print(M[2][obs] + ')', end=', ')\n",
    "    \n",
    "print('\\b\\b}')\n",
    "```\n",
    "\n",
    "Output:\n",
    "\n",
    "```\n",
    "States: [ 0  3  6  3 11 13  0  2 11 13  0]\n",
    "Actions: [2 0 2 2 1 0 0 2 2 2]\n",
    "Observations: [1 4 1 7 9 0 1 7 9 0]\n",
    "Trajectory:\n",
    "{(I, c, 2), (2C, a, C), (C, c, 2), (2C, c, Q), (Q, b, F), (F, a, I), (I, a, 2), (2B, c, Q), (Q, c, F), (F, c, I)}\n",
    "```"
   ]
  },
  {
   "cell_type": "code",
   "execution_count": 4,
   "metadata": {
    "ExecuteTime": {
     "end_time": "2019-11-12T18:32:47.533681Z",
     "start_time": "2019-11-12T18:32:47.427967Z"
    }
   },
   "outputs": [
    {
     "name": "stdout",
     "output_type": "stream",
     "text": [
      "States: [ 0  3  6  3 11 13  0  2 11 13  0]\n",
      "Actions: [2 0 2 2 1 0 0 2 2 2]\n",
      "Observations: [1 4 1 7 9 0 1 7 9 0]\n",
      "Trajectory:\n",
      "{(I, c, 2), (2C, a, C), (C, c, 2), (2C, c, Q), (Q, b, F), (F, a, I), (I, a, 2), (2B, c, Q), (Q, c, F), (F, c, I)}\n"
     ]
    }
   ],
   "source": [
    "rand.seed(42)\n",
    "\n",
    "# Trajectory of 10 steps from state I - state index 0\n",
    "t = gen_trajectory(M, 0,  10)\n",
    "\n",
    "print('States:', t[0])\n",
    "print('Actions:', t[1])\n",
    "print('Observations:', t[2])\n",
    "\n",
    "# Check states, actions and observations in the trajectory\n",
    "print('Trajectory:\\n{', end='')\n",
    "\n",
    "for idx in range(10):\n",
    "    ste = t[0][idx]\n",
    "    act = t[1][idx]\n",
    "    obs = t[2][idx]\n",
    "    \n",
    "    print('(' + M[0][ste], end=', ')\n",
    "    print(M[1][act], end=', ')\n",
    "    print(M[2][obs] + ')', end=', ')\n",
    "    \n",
    "print('\\b\\b}')"
   ]
  },
  {
   "cell_type": "markdown",
   "metadata": {},
   "source": [
    "You will now write a function that samples a given number of possible belief points for a POMDP. To do that, you will use the function from **Activity 2**.\n",
    "\n",
    "---\n",
    "\n",
    "#### Activity 3.\n",
    "\n",
    "Write a function called `sample_beliefs` that receives, as input, a POMDP described as a tuple like that from **Activity 1** and an integer `n`, and return a tuple with `n` elements **or less**, each corresponding to a possible belief state (represented as a $1\\times|\\mathcal{X}|$ vector). To do so, your function should\n",
    "\n",
    "* Generate a trajectory with `n-1` steps from a random initial state, using the function `gen_trajectory` from **Activity 2**.\n",
    "* For the generated trajectory, compute the corresponding sequence of beliefs, assuming that the agent does not know its initial state (i.e., the initial belief is the uniform belief). \n",
    "\n",
    "Your function should return a tuple with the resulting beliefs, **ignoring duplicate beliefs or beliefs whose distance is smaller than $10^{-3}$.**\n",
    "\n",
    "**Note 1:** You may want to define an auxiliary function `belief_update` that receives a belief, an action and an observation and returns the updated belief.\n",
    "\n",
    "**Note 2:** To compute the distance between vectors, you may find useful `numpy`'s function `linalg.norm`.\n",
    "\n",
    "\n",
    "---"
   ]
  },
  {
   "cell_type": "code",
   "execution_count": 5,
   "metadata": {
    "ExecuteTime": {
     "end_time": "2019-11-12T18:32:47.638401Z",
     "start_time": "2019-11-12T18:32:47.551634Z"
    },
    "scrolled": false
   },
   "outputs": [],
   "source": [
    "import itertools\n",
    "\n",
    "def sample_beliefs(M,n):\n",
    "    \n",
    "    def belief_update(b,a,z):\n",
    "        P_a   = M[3][a]\n",
    "        O     = np.diag(M[4][a][:,z])\n",
    "        b_new = np.dot(b,P_a@O)\n",
    "        b_new = b_new / np.sum(b_new)\n",
    "        return b_new\n",
    "\n",
    "    n_actions = len(M[1])\n",
    "    n_states  = len(M[0])\n",
    "    n_obs     = len(M[2])\n",
    "\n",
    "    belief = np.ones((1,n_states)) / n_states # starting uniform distribution\n",
    "    x0     = rand.choice(n_states)\n",
    "    t      = gen_trajectory(M,x0,n-1)\n",
    "    belief_state = np.empty((n,1,n_states))\n",
    "    belief_state[0] = belief\n",
    "\n",
    "    for i in range(n-1):\n",
    "        new_b = belief_update(belief_state[i],t[1][i],t[2][i])\n",
    "        belief_state[i+1,:,None] = new_b[:]\n",
    "    \n",
    "    # ignore duplicate beliefs\n",
    "    _,idx  = np.unique(belief_state,axis=0,return_index=True)\n",
    "    idx.sort()\n",
    "    belief_state = belief_state[idx]\n",
    "\n",
    "    for x in itertools.combinations(belief_state, 2): # pairwise comparison\n",
    "        if np.linalg.norm(x[0]-x[1]) < 1e-3:\n",
    "            belief_state = np.delete( belief_state, np.where((belief_state == x[0]).all(axis=2))[0] )\n",
    "    \n",
    "    return belief_state"
   ]
  },
  {
   "cell_type": "markdown",
   "metadata": {},
   "source": [
    "As an example, you can run the following code on the POMDP from **Activity 1**.\n",
    "\n",
    "```python\n",
    "rand.seed(42)\n",
    "\n",
    "# 10 sample beliefs\n",
    "B = sample_beliefs(M, 10)\n",
    "print('%i beliefs sampled:' % len(B))\n",
    "for i in range(len(B)):\n",
    "    print(B[i])\n",
    "\n",
    "# 10 sample beliefs\n",
    "B = sample_beliefs(M, 100)\n",
    "print('%i beliefs sampled:' % len(B))\n",
    "for i in range(len(B)):\n",
    "    print(B[i])\n",
    "```\n",
    "\n",
    "Output:\n",
    "\n",
    "```\n",
    "7 beliefs sampled:\n",
    "[[0.07 0.07 0.07 0.07 0.07 0.07 0.07 0.07 0.07 0.07 0.07 0.07 0.07 0.07]]\n",
    "[[0.   0.33 0.33 0.33 0.   0.   0.   0.   0.   0.   0.   0.   0.   0.  ]]\n",
    "[[0. 0. 0. 0. 0. 0. 0. 0. 0. 0. 0. 1. 0. 0.]]\n",
    "[[0. 0. 0. 0. 0. 0. 0. 0. 0. 0. 0. 0. 0. 1.]]\n",
    "[[1. 0. 0. 0. 0. 0. 0. 0. 0. 0. 0. 0. 0. 0.]]\n",
    "[[0. 0. 0. 0. 0. 1. 0. 0. 0. 0. 0. 0. 0. 0.]]\n",
    "[[0. 0. 1. 0. 0. 0. 0. 0. 0. 0. 0. 0. 0. 0.]]\n",
    "13 beliefs sampled:\n",
    "[[0.07 0.07 0.07 0.07 0.07 0.07 0.07 0.07 0.07 0.07 0.07 0.07 0.07 0.07]]\n",
    "[[0. 0. 0. 0. 0. 0. 0. 0. 0. 0. 0. 0. 1. 0.]]\n",
    "[[0. 0. 0. 0. 0. 0. 0. 0. 0. 0. 0. 0. 0. 1.]]\n",
    "[[1. 0. 0. 0. 0. 0. 0. 0. 0. 0. 0. 0. 0. 0.]]\n",
    "[[0.   0.33 0.33 0.33 0.   0.   0.   0.   0.   0.   0.   0.   0.   0.  ]]\n",
    "[[0. 0. 0. 0. 0. 0. 0. 0. 0. 0. 0. 1. 0. 0.]]\n",
    "[[0.   0.   0.   0.   0.   0.   0.   0.33 0.33 0.33 0.   0.   0.   0.  ]]\n",
    "[[0. 0. 0. 0. 0. 0. 0. 0. 0. 0. 1. 0. 0. 0.]]\n",
    "[[0. 0. 0. 0. 0. 0. 1. 0. 0. 0. 0. 0. 0. 0.]]\n",
    "[[0. 0. 0. 1. 0. 0. 0. 0. 0. 0. 0. 0. 0. 0.]]\n",
    "[[0. 0. 0. 0. 1. 0. 0. 0. 0. 0. 0. 0. 0. 0.]]\n",
    "[[0. 1. 0. 0. 0. 0. 0. 0. 0. 0. 0. 0. 0. 0.]]\n",
    "[[0. 0. 0. 0. 0. 0. 0. 0. 0. 1. 0. 0. 0. 0.]]\n",
    "```"
   ]
  },
  {
   "cell_type": "markdown",
   "metadata": {},
   "source": [
    "As an example, you can run the following code on the POMDP from **Activity 1**.\n",
    "\n",
    "```python\n",
    "rand.seed(42)\n",
    "\n",
    "# 10 sample beliefs\n",
    "B = sample_beliefs(M, 10)\n",
    "print('%i beliefs sampled:' % len(B))\n",
    "for i in range(len(B)):\n",
    "    print(B[i])\n",
    "\n",
    "# 10 sample beliefs\n",
    "B = sample_beliefs(M, 100)\n",
    "print('%i beliefs sampled:' % len(B))\n",
    "for i in range(len(B)):\n",
    "    print(B[i])\n",
    "```\n",
    "\n",
    "Output:\n",
    "\n",
    "```\n",
    "7 beliefs sampled:\n",
    "[[0.07 0.07 0.07 0.07 0.07 0.07 0.07 0.07 0.07 0.07 0.07 0.07 0.07 0.07]]\n",
    "[[0.   0.33 0.33 0.33 0.   0.   0.   0.   0.   0.   0.   0.   0.   0.  ]]\n",
    "[[0. 0. 0. 0. 0. 0. 0. 0. 0. 0. 0. 1. 0. 0.]]\n",
    "[[0. 0. 0. 0. 0. 0. 0. 0. 0. 0. 0. 0. 0. 1.]]\n",
    "[[1. 0. 0. 0. 0. 0. 0. 0. 0. 0. 0. 0. 0. 0.]]\n",
    "[[0. 0. 0. 0. 0. 1. 0. 0. 0. 0. 0. 0. 0. 0.]]\n",
    "[[0. 0. 1. 0. 0. 0. 0. 0. 0. 0. 0. 0. 0. 0.]]\n",
    "13 beliefs sampled:\n",
    "[[0.07 0.07 0.07 0.07 0.07 0.07 0.07 0.07 0.07 0.07 0.07 0.07 0.07 0.07]]\n",
    "[[0. 0. 0. 0. 0. 0. 0. 0. 0. 0. 0. 0. 1. 0.]]\n",
    "[[0. 0. 0. 0. 0. 0. 0. 0. 0. 0. 0. 0. 0. 1.]]\n",
    "[[1. 0. 0. 0. 0. 0. 0. 0. 0. 0. 0. 0. 0. 0.]]\n",
    "[[0.   0.33 0.33 0.33 0.   0.   0.   0.   0.   0.   0.   0.   0.   0.  ]]\n",
    "[[0. 0. 0. 0. 0. 0. 0. 0. 0. 0. 0. 1. 0. 0.]]\n",
    "[[0.   0.   0.   0.   0.   0.   0.   0.33 0.33 0.33 0.   0.   0.   0.  ]]\n",
    "[[0. 0. 0. 0. 0. 0. 0. 0. 0. 0. 1. 0. 0. 0.]]\n",
    "[[0. 0. 0. 0. 0. 0. 1. 0. 0. 0. 0. 0. 0. 0.]]\n",
    "[[0. 0. 0. 1. 0. 0. 0. 0. 0. 0. 0. 0. 0. 0.]]\n",
    "[[0. 0. 0. 0. 1. 0. 0. 0. 0. 0. 0. 0. 0. 0.]]\n",
    "[[0. 1. 0. 0. 0. 0. 0. 0. 0. 0. 0. 0. 0. 0.]]\n",
    "[[0. 0. 0. 0. 0. 0. 0. 0. 0. 1. 0. 0. 0. 0.]]\n",
    "```"
   ]
  },
  {
   "cell_type": "code",
   "execution_count": 6,
   "metadata": {
    "ExecuteTime": {
     "end_time": "2019-11-12T18:32:47.853830Z",
     "start_time": "2019-11-12T18:32:47.655355Z"
    },
    "scrolled": false
   },
   "outputs": [
    {
     "name": "stdout",
     "output_type": "stream",
     "text": [
      "7 beliefs sampled:\n",
      "[[0.07142857 0.07142857 0.07142857 0.07142857 0.07142857 0.07142857\n",
      "  0.07142857 0.07142857 0.07142857 0.07142857 0.07142857 0.07142857\n",
      "  0.07142857 0.07142857]]\n",
      "[[0.         0.33333333 0.33333333 0.33333333 0.         0.\n",
      "  0.         0.         0.         0.         0.         0.\n",
      "  0.         0.        ]]\n",
      "[[0. 0. 0. 0. 0. 0. 0. 0. 0. 0. 0. 1. 0. 0.]]\n",
      "[[0. 0. 0. 0. 0. 0. 0. 0. 0. 0. 0. 0. 0. 1.]]\n",
      "[[1. 0. 0. 0. 0. 0. 0. 0. 0. 0. 0. 0. 0. 0.]]\n",
      "[[0. 0. 0. 0. 0. 1. 0. 0. 0. 0. 0. 0. 0. 0.]]\n",
      "[[0. 0. 1. 0. 0. 0. 0. 0. 0. 0. 0. 0. 0. 0.]]\n",
      "13 beliefs sampled:\n",
      "[[0.07142857 0.07142857 0.07142857 0.07142857 0.07142857 0.07142857\n",
      "  0.07142857 0.07142857 0.07142857 0.07142857 0.07142857 0.07142857\n",
      "  0.07142857 0.07142857]]\n",
      "[[0. 0. 0. 0. 0. 0. 0. 0. 0. 0. 0. 1. 0. 0.]]\n",
      "[[0. 0. 0. 0. 0. 0. 0. 0. 0. 0. 0. 0. 0. 1.]]\n",
      "[[1. 0. 0. 0. 0. 0. 0. 0. 0. 0. 0. 0. 0. 0.]]\n",
      "[[0.         0.33333333 0.33333333 0.33333333 0.         0.\n",
      "  0.         0.         0.         0.         0.         0.\n",
      "  0.         0.        ]]\n",
      "[[0. 0. 0. 0. 0. 0. 1. 0. 0. 0. 0. 0. 0. 0.]]\n",
      "[[0. 0. 0. 1. 0. 0. 0. 0. 0. 0. 0. 0. 0. 0.]]\n",
      "[[0.         0.         0.         0.         0.         0.\n",
      "  0.         0.33333333 0.33333333 0.33333333 0.         0.\n",
      "  0.         0.        ]]\n",
      "[[0. 0. 0. 0. 0. 0. 0. 0. 0. 0. 0. 0. 1. 0.]]\n",
      "[[0. 0. 0. 0. 0. 0. 0. 0. 0. 0. 1. 0. 0. 0.]]\n",
      "[[0. 0. 0. 0. 1. 0. 0. 0. 0. 0. 0. 0. 0. 0.]]\n",
      "[[0. 1. 0. 0. 0. 0. 0. 0. 0. 0. 0. 0. 0. 0.]]\n",
      "[[0. 0. 0. 0. 0. 0. 0. 0. 0. 1. 0. 0. 0. 0.]]\n"
     ]
    }
   ],
   "source": [
    "rand.seed(42)\n",
    "\n",
    "# 10 sample beliefs\n",
    "B = sample_beliefs(M, 10)\n",
    "print('%i beliefs sampled:' % len(B))\n",
    "for i in range(len(B)):\n",
    "    print(B[i])\n",
    "\n",
    "# 10 sample beliefs\n",
    "B = sample_beliefs(M, 100)\n",
    "print('%i beliefs sampled:' % len(B))\n",
    "for i in range(len(B)):\n",
    "    print(B[i])"
   ]
  },
  {
   "cell_type": "markdown",
   "metadata": {},
   "source": [
    "### 3. Solution methods\n",
    "\n",
    "In this section you are going to compare different solution methods for POMDPs discussed in class."
   ]
  },
  {
   "cell_type": "markdown",
   "metadata": {},
   "source": [
    "---\n",
    "\n",
    "#### Activity 4\n",
    "\n",
    "Write a function `solve_mdp` that takes as input a POMDP represented as a tuple like that of **Activity 1** and returns a `numpy` array corresponding to the **optimal $Q$-function for the underlying MDP**. Stop the algorithm when the error between iterations is smaller than $10^{-8}$.\n",
    "\n",
    "** Note:** You may reuse code from previous labs.\n",
    "\n",
    "---"
   ]
  },
  {
   "cell_type": "code",
   "execution_count": 7,
   "metadata": {
    "ExecuteTime": {
     "end_time": "2019-11-12T18:32:47.908683Z",
     "start_time": "2019-11-12T18:32:47.863800Z"
    },
    "scrolled": false
   },
   "outputs": [],
   "source": [
    "def solve_mdp(M):\n",
    "    # init\n",
    "    k         = 0\n",
    "    n_actions = len(M[1])\n",
    "    n_states  = len(M[0])\n",
    "    J         = np.zeros( n_states )\n",
    "    epsilon   = 1e-8\n",
    "    cost      = M[5]\n",
    "    P         = M[3]\n",
    "    gamma     = M[6]\n",
    "    Q         = np.empty( (n_states,n_actions) )\n",
    "\n",
    "    while True:\n",
    "        # Q-functions\n",
    "        for a in range(n_actions):\n",
    "            Q[:,a] = cost[:,a] + gamma*(P[a]*J).sum(axis=1)\n",
    "        J_new = np.min(Q,axis=1)\n",
    "        if np.linalg.norm(J_new-J) < epsilon:\n",
    "            k += 1\n",
    "            break\n",
    "        else:\n",
    "            J = J_new\n",
    "            k += 1\n",
    "    return Q"
   ]
  },
  {
   "cell_type": "markdown",
   "metadata": {},
   "source": [
    "As an example, you can run the following code on the POMDP from **Activity 1**.\n",
    "\n",
    "```python\n",
    "Q = solve_mdp(M)\n",
    "\n",
    "rand.seed(42)\n",
    "\n",
    "s = rand.randint(len(M[0]))\n",
    "print('Q-values at state %s:' % M[0][s], Q[s, :])\n",
    "\n",
    "s = rand.randint(len(M[0]))\n",
    "print('Q-values at state %s:' % M[0][s], Q[s, :])\n",
    "\n",
    "s = rand.randint(len(M[0]))\n",
    "print('Q-values at state %s:' % M[0][s], Q[s, :])\n",
    "```\n",
    "\n",
    "Output:\n",
    "\n",
    "```\n",
    "Q-values at state C: [0. 0. 0.]\n",
    "Q-values at state 2C: [0.3  0.   0.74]\n",
    "Q-values at state L: [1. 1. 1.]\n",
    "```"
   ]
  },
  {
   "cell_type": "code",
   "execution_count": 8,
   "metadata": {
    "ExecuteTime": {
     "end_time": "2019-11-12T18:32:47.983479Z",
     "start_time": "2019-11-12T18:32:47.924638Z"
    }
   },
   "outputs": [
    {
     "name": "stdout",
     "output_type": "stream",
     "text": [
      "Q-values at state C: [0. 0. 0.]\n",
      "Q-values at state 2C: [0.3    0.     0.7425]\n",
      "Q-values at state L: [1. 1. 1.]\n"
     ]
    }
   ],
   "source": [
    "Q = solve_mdp(M)\n",
    "\n",
    "rand.seed(42)\n",
    "\n",
    "s = rand.randint(len(M[0]))\n",
    "print('Q-values at state %s:' % M[0][s], Q[s, :])\n",
    "\n",
    "s = rand.randint(len(M[0]))\n",
    "print('Q-values at state %s:' % M[0][s], Q[s, :])\n",
    "\n",
    "s = rand.randint(len(M[0]))\n",
    "print('Q-values at state %s:' % M[0][s], Q[s, :])"
   ]
  },
  {
   "cell_type": "markdown",
   "metadata": {},
   "source": [
    "---\n",
    "\n",
    "#### Activity 5\n",
    "\n",
    "You will now test the different MDP heuristics discussed in class. To that purpose, write down a function that, given a belief vector and the solution for the underlying MDP, computes the action prescribed by each of the three MDP heuristics. In particular, you should write down a function named `get_heuristic_action` that receives, as inputs:\n",
    "\n",
    "* A belief state represented as a `numpy` array like those of **Activity 3**;\n",
    "* The optimal $Q$-function for an MDP (computed, for example, using the function `solve_mdp` from **Activity 4**);\n",
    "* A string that can be either `\"mls\"`, `\"av\"`, or `\"q-mdp\"`;\n",
    "\n",
    "Your function should return an integer corresponding to the index of the action prescribed by the heuristic indicated by the corresponding string, i.e., the most likely state heuristic for `\"mls\"`, the action voting heuristic for `\"av\"`, and the $Q$-MDP heuristic for `\"q-mdp\"`.\n",
    "\n",
    "---"
   ]
  },
  {
   "cell_type": "code",
   "execution_count": 9,
   "metadata": {
    "ExecuteTime": {
     "end_time": "2019-11-12T18:32:48.038331Z",
     "start_time": "2019-11-12T18:32:47.995447Z"
    },
    "scrolled": false
   },
   "outputs": [],
   "source": [
    "def get_heuristic_action(b,Q,heur):\n",
    "    \n",
    "    Qmin      = Q.min(axis=1, keepdims=True)\n",
    "    epsilon   = 1e-8\n",
    "    pol_mdp   = np.isclose(Q,Qmin, atol=epsilon,rtol=epsilon).astype(int)     \n",
    "    pol_mdp   = pol_mdp / pol_mdp.sum(axis=1, keepdims=True) #normalization\n",
    "    \n",
    "    if heur == \"mls\":\n",
    "        pi = np.argmax(pol_mdp[np.argmax(b)])\n",
    "    elif heur == \"av\":\n",
    "        pi = np.argmax( b.dot(pol_mdp), axis=1 )[0]       \n",
    "    elif heur == \"q-mdp\":\n",
    "        pi = np.argmin( b @ Q )\n",
    "    else:\n",
    "        print(\"Choose a valid heuristic (mls, av, q-mdp)\")\n",
    "        return 0\n",
    "    return pi"
   ]
  },
  {
   "cell_type": "markdown",
   "metadata": {},
   "source": [
    "For example, if you run your function in the examples from **Activity 3** using the $Q$-function from **Activity 4**, you can observe the following interaction.\n",
    "\n",
    "```python\n",
    "for b in B:\n",
    "    print('Belief:')\n",
    "    print(b)\n",
    "\n",
    "    print('MLS action:', get_heuristic_action(b, Q, 'mls'), end='; ')\n",
    "    print('AV action:', get_heuristic_action(b, Q, 'av'), end='; ')\n",
    "    print('Q-MDP action:', get_heuristic_action(b, Q, 'q-mdp'), end='; ')\n",
    "\n",
    "    print()\n",
    "```\n",
    "\n",
    "Output:\n",
    "\n",
    "```\n",
    "Belief:\n",
    "[[0.07 0.07 0.07 0.07 0.07 0.07 0.07 0.07 0.07 0.07 0.07 0.07 0.07 0.07]]\n",
    "MLS action: 0; AV action: 1; Q-MDP action: 1; \n",
    "Belief:\n",
    "[[0. 0. 0. 0. 0. 0. 0. 0. 0. 0. 0. 0. 1. 0.]]\n",
    "MLS action: 0; AV action: 0; Q-MDP action: 0; \n",
    "Belief:\n",
    "[[0. 0. 0. 0. 0. 0. 0. 0. 0. 0. 0. 0. 0. 1.]]\n",
    "MLS action: 0; AV action: 0; Q-MDP action: 0; \n",
    "Belief:\n",
    "[[1. 0. 0. 0. 0. 0. 0. 0. 0. 0. 0. 0. 0. 0.]]\n",
    "MLS action: 0; AV action: 0; Q-MDP action: 0; \n",
    "Belief:\n",
    "[[0.   0.33 0.33 0.33 0.   0.   0.   0.   0.   0.   0.   0.   0.   0.  ]]\n",
    "MLS action: 1; AV action: 1; Q-MDP action: 1; \n",
    "Belief:\n",
    "[[0. 0. 0. 0. 0. 0. 0. 0. 0. 0. 0. 1. 0. 0.]]\n",
    "MLS action: 0; AV action: 0; Q-MDP action: 0; \n",
    "Belief:\n",
    "[[0.   0.   0.   0.   0.   0.   0.   0.33 0.33 0.33 0.   0.   0.   0.  ]]\n",
    "MLS action: 0; AV action: 0; Q-MDP action: 0; \n",
    "Belief:\n",
    "[[0. 0. 0. 0. 0. 0. 0. 0. 0. 0. 1. 0. 0. 0.]]\n",
    "MLS action: 0; AV action: 0; Q-MDP action: 0; \n",
    "Belief:\n",
    "[[0. 0. 0. 0. 0. 0. 1. 0. 0. 0. 0. 0. 0. 0.]]\n",
    "MLS action: 0; AV action: 0; Q-MDP action: 0; \n",
    "Belief:\n",
    "[[0. 0. 0. 1. 0. 0. 0. 0. 0. 0. 0. 0. 0. 0.]]\n",
    "MLS action: 1; AV action: 1; Q-MDP action: 1; \n",
    "Belief:\n",
    "[[0. 0. 0. 0. 1. 0. 0. 0. 0. 0. 0. 0. 0. 0.]]\n",
    "MLS action: 0; AV action: 0; Q-MDP action: 0; \n",
    "Belief:\n",
    "[[0. 1. 0. 0. 0. 0. 0. 0. 0. 0. 0. 0. 0. 0.]]\n",
    "MLS action: 1; AV action: 1; Q-MDP action: 1; \n",
    "Belief:\n",
    "[[0. 0. 0. 0. 0. 0. 0. 0. 0. 1. 0. 0. 0. 0.]]\n",
    "MLS action: 2; AV action: 2; Q-MDP action: 2; \n",
    "```"
   ]
  },
  {
   "cell_type": "code",
   "execution_count": 10,
   "metadata": {
    "ExecuteTime": {
     "end_time": "2019-11-12T18:32:48.172977Z",
     "start_time": "2019-11-12T18:32:48.047306Z"
    }
   },
   "outputs": [
    {
     "name": "stdout",
     "output_type": "stream",
     "text": [
      "Belief:\n",
      "[[0.07142857 0.07142857 0.07142857 0.07142857 0.07142857 0.07142857\n",
      "  0.07142857 0.07142857 0.07142857 0.07142857 0.07142857 0.07142857\n",
      "  0.07142857 0.07142857]]\n",
      "MLS action: 0; AV action: 1; Q-MDP action: 1; \n",
      "Belief:\n",
      "[[0. 0. 0. 0. 0. 0. 0. 0. 0. 0. 0. 1. 0. 0.]]\n",
      "MLS action: 0; AV action: 0; Q-MDP action: 0; \n",
      "Belief:\n",
      "[[0. 0. 0. 0. 0. 0. 0. 0. 0. 0. 0. 0. 0. 1.]]\n",
      "MLS action: 0; AV action: 0; Q-MDP action: 0; \n",
      "Belief:\n",
      "[[1. 0. 0. 0. 0. 0. 0. 0. 0. 0. 0. 0. 0. 0.]]\n",
      "MLS action: 0; AV action: 0; Q-MDP action: 0; \n",
      "Belief:\n",
      "[[0.         0.33333333 0.33333333 0.33333333 0.         0.\n",
      "  0.         0.         0.         0.         0.         0.\n",
      "  0.         0.        ]]\n",
      "MLS action: 1; AV action: 1; Q-MDP action: 1; \n",
      "Belief:\n",
      "[[0. 0. 0. 0. 0. 0. 1. 0. 0. 0. 0. 0. 0. 0.]]\n",
      "MLS action: 0; AV action: 0; Q-MDP action: 0; \n",
      "Belief:\n",
      "[[0. 0. 0. 1. 0. 0. 0. 0. 0. 0. 0. 0. 0. 0.]]\n",
      "MLS action: 1; AV action: 1; Q-MDP action: 1; \n",
      "Belief:\n",
      "[[0.         0.         0.         0.         0.         0.\n",
      "  0.         0.33333333 0.33333333 0.33333333 0.         0.\n",
      "  0.         0.        ]]\n",
      "MLS action: 0; AV action: 0; Q-MDP action: 0; \n",
      "Belief:\n",
      "[[0. 0. 0. 0. 0. 0. 0. 0. 0. 0. 0. 0. 1. 0.]]\n",
      "MLS action: 0; AV action: 0; Q-MDP action: 0; \n",
      "Belief:\n",
      "[[0. 0. 0. 0. 0. 0. 0. 0. 0. 0. 1. 0. 0. 0.]]\n",
      "MLS action: 0; AV action: 0; Q-MDP action: 0; \n",
      "Belief:\n",
      "[[0. 0. 0. 0. 1. 0. 0. 0. 0. 0. 0. 0. 0. 0.]]\n",
      "MLS action: 0; AV action: 0; Q-MDP action: 0; \n",
      "Belief:\n",
      "[[0. 1. 0. 0. 0. 0. 0. 0. 0. 0. 0. 0. 0. 0.]]\n",
      "MLS action: 1; AV action: 1; Q-MDP action: 1; \n",
      "Belief:\n",
      "[[0. 0. 0. 0. 0. 0. 0. 0. 0. 1. 0. 0. 0. 0.]]\n",
      "MLS action: 2; AV action: 2; Q-MDP action: 2; \n"
     ]
    }
   ],
   "source": [
    "for b in B:\n",
    "    print('Belief:')\n",
    "    print(b)\n",
    "\n",
    "    print('MLS action:', get_heuristic_action(b, Q, 'mls'), end='; ')\n",
    "    print('AV action:', get_heuristic_action(b, Q, 'av'), end='; ')\n",
    "    print('Q-MDP action:', get_heuristic_action(b, Q, 'q-mdp'), end='; ')\n",
    "\n",
    "    print()"
   ]
  },
  {
   "cell_type": "markdown",
   "metadata": {},
   "source": [
    "---\n",
    "\n",
    "#### Activity 6\n",
    "\n",
    "Suppose that the optimal cost-to-go function for the POMDP can be represented using the $\\alpha$-vectors:"
   ]
  },
  {
   "cell_type": "code",
   "execution_count": 11,
   "metadata": {
    "ExecuteTime": {
     "end_time": "2019-11-12T18:32:48.240791Z",
     "start_time": "2019-11-12T18:32:48.185937Z"
    }
   },
   "outputs": [],
   "source": [
    "G = np.array([[0.86955632, 0.63762306, 1.03088973, 1.03088973, 1.10854268, 1.10854268, 1.10854268, 1.10854268],\n",
    "              [1.17976963, 0.70570298, 1.37396966, 1.37396966, 0.42351813, 1.23351813, 1.23351813, 1.14341529],\n",
    "              [0.80068963, 0.70570298, 0.84908966, 0.65488963, 1.23351813, 0.42351813, 1.23351813, 1.14341529],\n",
    "              [1.32556963, 0.70570298, 1.17976963, 1.37396966, 1.23351813, 1.23351813, 0.42351813, 1.14341529],\n",
    "              [0.38355632, 0.63762306, 1.35455644, 1.35455644, 1.12066262, 1.12066262, 1.12066262, 1.12066262],\n",
    "              [1.11255632, 0.63762306, 1.35455644, 0.38355632, 1.03687271, 1.03687271, 1.03687271, 1.03687271],\n",
    "              [1.11255632, 0.63762306, 0.38355632, 1.35455644, 1.16809271, 1.16809271, 1.16809271, 1.16809271],\n",
    "              [0.46841529, 0.46841529, 0.46841529, 0.46841529, 1.36841529, 1.36841529, 1.36841529, 1.36841529],\n",
    "              [1.36841529, 1.36841529, 1.36841529, 1.36841529, 0.46841529, 0.46841529, 0.46841529, 1.36841529],\n",
    "              [1.36841529, 1.36841529, 1.36841529, 1.36841529, 1.36841529, 1.36841529, 1.36841529, 0.46841529],\n",
    "              [0.85189761, 0.51886317, 0.85189761, 0.85189761, 0.85189761, 0.85189761, 0.85189761, 0.85189761],\n",
    "              [1.60189761, 1.26886317, 1.60189761, 1.60189761, 1.60189761, 1.60189761, 1.60189761, 1.60189761],\n",
    "              [1.85189761, 1.51886317, 1.85189761, 1.85189761, 1.85189761, 1.85189761, 1.85189761, 1.85189761],\n",
    "              [0.78512296, 0.57517959, 0.78512296, 0.78512296, 0.78512296, 0.78512296, 0.78512296, 0.78512296]])"
   ]
  },
  {
   "cell_type": "markdown",
   "metadata": {},
   "source": [
    "where the first 4 vectors correspond to action $a$, the next three vectors correspond to action $b$ and the last vector corresponds to action $c$. Using the $\\alpha$-vectors above, write a function `get_optimal_action` that, given a belief vector, computes the corresponding optimal action. Your function should receive, as inputs,\n",
    "\n",
    "* A belief state represented as a `numpy` array like those of **Activity 3**;\n",
    "* The set of optimal $\\alpha$-vectors, represented as a `numpy` array like `G` above;\n",
    "* A list containing the indices of the actions corresponding to each of the $\\alpha$-vectors.\n",
    "\n",
    "Your function should return an integer corresponding to the index of the optimal action. \n",
    "\n",
    "---"
   ]
  },
  {
   "cell_type": "code",
   "execution_count": 12,
   "metadata": {
    "ExecuteTime": {
     "end_time": "2019-11-12T18:32:48.268714Z",
     "start_time": "2019-11-12T18:32:48.253754Z"
    },
    "scrolled": false
   },
   "outputs": [],
   "source": [
    "def get_optimal_action(b,G,idx):\n",
    "    pi = b @ G\n",
    "    return idx[np.argmin(pi)]"
   ]
  },
  {
   "cell_type": "markdown",
   "metadata": {},
   "source": [
    "If you compute the optimal actions for the beliefs in the example from **Activity 3**, you can observe the following interaction.\n",
    "\n",
    "```python\n",
    "for b in B:\n",
    "    print('Belief:')\n",
    "    print(b)\n",
    "\n",
    "    print('MLS action:', get_heuristic_action(b, Q, 'mls'), end='; ')\n",
    "    print('AV action:', get_heuristic_action(b, Q, 'av'), end='; ')\n",
    "    print('Q-MDP action:', get_heuristic_action(b, Q, 'q-mdp'), end='; ')\n",
    "    print('Optimal action:', get_optimal_action(b, G, [0, 0, 0, 0, 1, 1, 1, 2]))\n",
    "\n",
    "    print()\n",
    "```\n",
    "\n",
    "Output:\n",
    "\n",
    "```Belief:\n",
    "[[0.07 0.07 0.07 0.07 0.07 0.07 0.07 0.07 0.07 0.07 0.07 0.07 0.07 0.07]]\n",
    "MLS action: 0; AV action: 1; Q-MDP action: 1; Optimal action: 0\n",
    "\n",
    "Belief:\n",
    "[[0. 0. 0. 0. 0. 0. 0. 0. 0. 0. 0. 0. 1. 0.]]\n",
    "MLS action: 0; AV action: 0; Q-MDP action: 0; Optimal action: 0\n",
    "\n",
    "Belief:\n",
    "[[0. 0. 0. 0. 0. 0. 0. 0. 0. 0. 0. 0. 0. 1.]]\n",
    "MLS action: 0; AV action: 0; Q-MDP action: 0; Optimal action: 0\n",
    "\n",
    "Belief:\n",
    "[[1. 0. 0. 0. 0. 0. 0. 0. 0. 0. 0. 0. 0. 0.]]\n",
    "MLS action: 0; AV action: 0; Q-MDP action: 0; Optimal action: 0\n",
    "\n",
    "Belief:\n",
    "[[0.   0.33 0.33 0.33 0.   0.   0.   0.   0.   0.   0.   0.   0.   0.  ]]\n",
    "MLS action: 1; AV action: 1; Q-MDP action: 1; Optimal action: 0\n",
    "\n",
    "Belief:\n",
    "[[0. 0. 0. 0. 0. 0. 0. 0. 0. 0. 0. 1. 0. 0.]]\n",
    "MLS action: 0; AV action: 0; Q-MDP action: 0; Optimal action: 0\n",
    "\n",
    "Belief:\n",
    "[[0.   0.   0.   0.   0.   0.   0.   0.33 0.33 0.33 0.   0.   0.   0.  ]]\n",
    "MLS action: 0; AV action: 0; Q-MDP action: 0; Optimal action: 0\n",
    "\n",
    "Belief:\n",
    "[[0. 0. 0. 0. 0. 0. 0. 0. 0. 0. 1. 0. 0. 0.]]\n",
    "MLS action: 0; AV action: 0; Q-MDP action: 0; Optimal action: 0\n",
    "\n",
    "Belief:\n",
    "[[0. 0. 0. 0. 0. 0. 1. 0. 0. 0. 0. 0. 0. 0.]]\n",
    "MLS action: 0; AV action: 0; Q-MDP action: 0; Optimal action: 0\n",
    "\n",
    "Belief:\n",
    "[[0. 0. 0. 1. 0. 0. 0. 0. 0. 0. 0. 0. 0. 0.]]\n",
    "MLS action: 1; AV action: 1; Q-MDP action: 1; Optimal action: 1\n",
    "\n",
    "Belief:\n",
    "[[0. 0. 0. 0. 1. 0. 0. 0. 0. 0. 0. 0. 0. 0.]]\n",
    "MLS action: 0; AV action: 0; Q-MDP action: 0; Optimal action: 0\n",
    "\n",
    "Belief:\n",
    "[[0. 1. 0. 0. 0. 0. 0. 0. 0. 0. 0. 0. 0. 0.]]\n",
    "MLS action: 1; AV action: 1; Q-MDP action: 1; Optimal action: 1\n",
    "\n",
    "Belief:\n",
    "[[0. 0. 0. 0. 0. 0. 0. 0. 0. 1. 0. 0. 0. 0.]]\n",
    "MLS action: 2; AV action: 2; Q-MDP action: 2; Optimal action: 2\n",
    "```"
   ]
  },
  {
   "cell_type": "code",
   "execution_count": 13,
   "metadata": {
    "ExecuteTime": {
     "end_time": "2019-11-12T18:32:48.456215Z",
     "start_time": "2019-11-12T18:32:48.288663Z"
    }
   },
   "outputs": [
    {
     "name": "stdout",
     "output_type": "stream",
     "text": [
      "Belief:\n",
      "[[0.07142857 0.07142857 0.07142857 0.07142857 0.07142857 0.07142857\n",
      "  0.07142857 0.07142857 0.07142857 0.07142857 0.07142857 0.07142857\n",
      "  0.07142857 0.07142857]]\n",
      "MLS action: 0; AV action: 1; Q-MDP action: 1; Optimal action: 0\n",
      "\n",
      "Belief:\n",
      "[[0. 0. 0. 0. 0. 0. 0. 0. 0. 0. 0. 1. 0. 0.]]\n",
      "MLS action: 0; AV action: 0; Q-MDP action: 0; Optimal action: 0\n",
      "\n",
      "Belief:\n",
      "[[0. 0. 0. 0. 0. 0. 0. 0. 0. 0. 0. 0. 0. 1.]]\n",
      "MLS action: 0; AV action: 0; Q-MDP action: 0; Optimal action: 0\n",
      "\n",
      "Belief:\n",
      "[[1. 0. 0. 0. 0. 0. 0. 0. 0. 0. 0. 0. 0. 0.]]\n",
      "MLS action: 0; AV action: 0; Q-MDP action: 0; Optimal action: 0\n",
      "\n",
      "Belief:\n",
      "[[0.         0.33333333 0.33333333 0.33333333 0.         0.\n",
      "  0.         0.         0.         0.         0.         0.\n",
      "  0.         0.        ]]\n",
      "MLS action: 1; AV action: 1; Q-MDP action: 1; Optimal action: 0\n",
      "\n",
      "Belief:\n",
      "[[0. 0. 0. 0. 0. 0. 1. 0. 0. 0. 0. 0. 0. 0.]]\n",
      "MLS action: 0; AV action: 0; Q-MDP action: 0; Optimal action: 0\n",
      "\n",
      "Belief:\n",
      "[[0. 0. 0. 1. 0. 0. 0. 0. 0. 0. 0. 0. 0. 0.]]\n",
      "MLS action: 1; AV action: 1; Q-MDP action: 1; Optimal action: 1\n",
      "\n",
      "Belief:\n",
      "[[0.         0.         0.         0.         0.         0.\n",
      "  0.         0.33333333 0.33333333 0.33333333 0.         0.\n",
      "  0.         0.        ]]\n",
      "MLS action: 0; AV action: 0; Q-MDP action: 0; Optimal action: 0\n",
      "\n",
      "Belief:\n",
      "[[0. 0. 0. 0. 0. 0. 0. 0. 0. 0. 0. 0. 1. 0.]]\n",
      "MLS action: 0; AV action: 0; Q-MDP action: 0; Optimal action: 0\n",
      "\n",
      "Belief:\n",
      "[[0. 0. 0. 0. 0. 0. 0. 0. 0. 0. 1. 0. 0. 0.]]\n",
      "MLS action: 0; AV action: 0; Q-MDP action: 0; Optimal action: 0\n",
      "\n",
      "Belief:\n",
      "[[0. 0. 0. 0. 1. 0. 0. 0. 0. 0. 0. 0. 0. 0.]]\n",
      "MLS action: 0; AV action: 0; Q-MDP action: 0; Optimal action: 0\n",
      "\n",
      "Belief:\n",
      "[[0. 1. 0. 0. 0. 0. 0. 0. 0. 0. 0. 0. 0. 0.]]\n",
      "MLS action: 1; AV action: 1; Q-MDP action: 1; Optimal action: 1\n",
      "\n",
      "Belief:\n",
      "[[0. 0. 0. 0. 0. 0. 0. 0. 0. 1. 0. 0. 0. 0.]]\n",
      "MLS action: 2; AV action: 2; Q-MDP action: 2; Optimal action: 2\n",
      "\n"
     ]
    }
   ],
   "source": [
    "for b in B:\n",
    "    print('Belief:')\n",
    "    print(b)\n",
    "\n",
    "    print('MLS action:', get_heuristic_action(b, Q, 'mls'), end='; ')\n",
    "    print('AV action:', get_heuristic_action(b, Q, 'av'), end='; ')\n",
    "    print('Q-MDP action:', get_heuristic_action(b, Q, 'q-mdp'), end='; ')\n",
    "    print('Optimal action:', get_optimal_action(b, G, [0, 0, 0, 0, 1, 1, 1, 2]))\n",
    "\n",
    "    print()"
   ]
  },
  {
   "cell_type": "markdown",
   "metadata": {},
   "source": [
    "Use the functions `get_heuristic_action` and `get_optimal_action` to compute the optimal action and the action prescribed by the three MDP heuristics at the belief `[[ 0.  0.  0.  0.  0.  0.  0.  0.  0.  0.  0.  0.  1.  0.]]` and compare the results."
   ]
  },
  {
   "cell_type": "code",
   "execution_count": 14,
   "metadata": {
    "ExecuteTime": {
     "end_time": "2019-11-12T18:32:48.501093Z",
     "start_time": "2019-11-12T18:32:48.469179Z"
    }
   },
   "outputs": [
    {
     "name": "stdout",
     "output_type": "stream",
     "text": [
      "MLS action: 0; AV action: 0; Q-MDP action: 0; Optimal action: 0\n"
     ]
    }
   ],
   "source": [
    "b = np.array([[ 0.,  0.,  0.,  0.,  0.,  0.,  0.,  0.,  0.,  0.,  0.,  0.,  1.,  0.]])\n",
    "print('MLS action:', get_heuristic_action(b, Q, 'mls'), end='; ')\n",
    "print('AV action:', get_heuristic_action(b, Q, 'av'), end='; ')\n",
    "print('Q-MDP action:', get_heuristic_action(b, Q, 'q-mdp'), end='; ')\n",
    "print('Optimal action:', get_optimal_action(b, G, [0, 0, 0, 0, 1, 1, 1, 2]))"
   ]
  },
  {
   "cell_type": "markdown",
   "metadata": {},
   "source": [
    "<span style=\"color:blue\">The three heuristics and the optimal action provide the same result, i.e. the first action. This is also in agreement with the underlying MDP since the given belief stands for the state \"L\" with 100% confidence and, no matter what action is taken, the next state is \"F\".</span>"
   ]
  },
  {
   "cell_type": "code",
   "execution_count": null,
   "metadata": {},
   "outputs": [],
   "source": []
  }
 ],
 "metadata": {
  "celltoolbar": "Raw Cell Format",
  "kernelspec": {
   "display_name": "Python 3",
   "language": "python",
   "name": "python3"
  },
  "language_info": {
   "codemirror_mode": {
    "name": "ipython",
    "version": 3
   },
   "file_extension": ".py",
   "mimetype": "text/x-python",
   "name": "python",
   "nbconvert_exporter": "python",
   "pygments_lexer": "ipython3",
   "version": "3.7.4"
  },
  "varInspector": {
   "cols": {
    "lenName": 16,
    "lenType": 16,
    "lenVar": 40
   },
   "kernels_config": {
    "python": {
     "delete_cmd_postfix": "",
     "delete_cmd_prefix": "del ",
     "library": "var_list.py",
     "varRefreshCmd": "print(var_dic_list())"
    },
    "r": {
     "delete_cmd_postfix": ") ",
     "delete_cmd_prefix": "rm(",
     "library": "var_list.r",
     "varRefreshCmd": "cat(var_dic_list()) "
    }
   },
   "types_to_exclude": [
    "module",
    "function",
    "builtin_function_or_method",
    "instance",
    "_Feature"
   ],
   "window_display": false
  }
 },
 "nbformat": 4,
 "nbformat_minor": 1
}
