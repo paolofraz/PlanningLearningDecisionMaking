{
 "cells": [
  {
   "cell_type": "markdown",
   "metadata": {},
   "source": [
    "# Learning and Decision Making"
   ]
  },
  {
   "cell_type": "markdown",
   "metadata": {},
   "source": [
    "## Laboratory 2: The Taxi Problem\n",
    "\n",
    "In the end of the lab, you should export the notebook to a Python script (File >> Download as >> Python (.py)). Your file should be named `padi-lab2-groupXX.py`, where the `XX` corresponds to your group number and should be submitted to the e-mail <adi.tecnico@gmail.com>. \n",
    "\n",
    "Make sure...\n",
    "\n",
    "* **... that the subject is of the form `[<group n.>] LAB <lab n.>`.** \n",
    "\n",
    "* **... to strictly respect the specifications in each activity, in terms of the intended inputs, outputs and naming conventions.** \n",
    "\n",
    "In particular, after completing the activities you should be able to replicate the examples provided (although this, in itself, is no guarantee that the activities are correctly completed).\n",
    "\n",
    "### 1. The MDP Model \n",
    "\n",
    "Consider once again the taxi domain described in the Homework which you modeled using a Markov decision process. In this lab you will interact with larger version of the same problem. You will use an MDP based on the aforementioned domain and investigate how to evaluate, solve and simulate a Markov decision problem. The domain is represented in the diagram below.\n",
    "\n",
    "<img src=\"taxi.png\" width=\"200px\">\n",
    "\n",
    "In the taxi domain above,\n",
    "\n",
    "* The taxi can be in any of the 25 cells in the diagram. The passenger can be at any of the 4 marked locations ($Y$, $B$, $G$, $R$) or in the taxi. Additionally, the passenger wishes to go to one of the 4 possible destinations. The total number of states, in this case, is $25\\times 5\\times 4$.\n",
    "* At each step, the agent (taxi driver) may move in any of the four directions -- south, north, east and west. It can also pickup the passenger or drop off the passenger. \n",
    "* The goal of the taxi driver is to pickup the passenger and drop it at the passenger's desired destination.\n",
    "\n",
    "**Throughout the lab, use $\\gamma=0.99$.**\n",
    "\n",
    "$$\\diamond$$"
   ]
  },
  {
   "cell_type": "markdown",
   "metadata": {},
   "source": [
    "In this first activity, you will implement an MDP model in Python. You will start by loading the MDP information from a `numpy` binary file, using the `numpy` function `load`. The file contains the list of states, actions, the transition probability matrices and cost function.\n",
    "\n",
    "---\n",
    "\n",
    "#### Activity 1.        \n",
    "\n",
    "Write a function named `load_mdp` that receives, as input, a string corresponding to the name of the file with the MDP information, and a real number $\\gamma$ between $0$ and $1$. The loaded file contains 4 arrays:\n",
    "\n",
    "* An array `S` that contains all the states in the MDP. There is a total of $501$ states describing the possible taxi-passenger configurations. Those states are represented as strings of the form `\"(x, y, p, d)\"`, where $(x,y)$ represents the position of the taxi in the grid, $p$ represents the position of the passenger ($R$, $G$, $Y$, $B$, or in the taxi), and $d$ the destination of the passenger ($R$, $G$, $Y$, $B$). There is one additional absorbing state called `\"Final\"` to which the MDP transitions after reaching the goal.\n",
    "* An array `A` that contains all the actions in the MDP. Each action is represented as a string `\"South\"`, `\"North\"`, and so on.\n",
    "* An array `P` containing 5 $501\\times 501$ sub-arrays, each corresponding to the transition probability matrix for one action.\n",
    "* An array `c` containing the cost function for the MDP.\n",
    "\n",
    "Your function should create the MDP as a tuple `(S, A, (Pa, a = 0, ..., 5), c, g)`, where `S` is a tuple containing the states in the MDP represented as strings (see above), `A` is a tuple containing the actions in the MDP represented as strings (see above), `P` is a tuple with 6 elements, where `P[a]` is an np.array corresponding to the transition probability matrix for action `a`, `c` is an np.array corresponding to the cost function for the MDP, and `g` is a float, corresponding to the discount and provided as the argument $\\gamma$ of your function. Your function should return the MDP tuple.\n",
    "\n",
    "**Note**: Don't forget to import `numpy`.\n",
    "\n",
    "---"
   ]
  },
  {
   "cell_type": "code",
   "execution_count": 1,
   "metadata": {
    "ExecuteTime": {
     "end_time": "2019-10-22T17:35:55.858887Z",
     "start_time": "2019-10-22T17:35:54.432801Z"
    },
    "scrolled": false
   },
   "outputs": [],
   "source": [
    "# Add your code here.\n",
    "import numpy as np\n",
    "\n",
    "def load_mdp(filename, gamma = 0.99):\n",
    "    with np.load(filename) as data:\n",
    "        S = data['S']\n",
    "        A = data['A']\n",
    "        P = data['P']\n",
    "        c = data['c']\n",
    "    M = S,A,P,c,gamma\n",
    "    return M"
   ]
  },
  {
   "cell_type": "markdown",
   "metadata": {},
   "source": [
    "We provide below an example of application of the function with the file `taxi.npz` that you can use as a first \"sanity check\" for your code.\n",
    "\n",
    "```python\n",
    "import numpy.random as rand\n",
    "\n",
    "M = load_mdp('taxi.npz', 0.99)\n",
    "\n",
    "rand.seed(42)\n",
    "\n",
    "# States\n",
    "print('Number of states:', len(M[0]))\n",
    "\n",
    "# Random state\n",
    "s = rand.randint(len(M[0]))\n",
    "print('Random state:', M[0][s])\n",
    "\n",
    "# Final state\n",
    "print('Final state:', M[0][-1])\n",
    "\n",
    "# Actions\n",
    "print('Number of actions:', len(M[1]))\n",
    "\n",
    "# Random action\n",
    "a = rand.randint(len(M[1]))\n",
    "print('Random action:', M[1][a])\n",
    "\n",
    "# Transition probabilities\n",
    "print('Transition probabilities for the selected state/action:')\n",
    "print(M[2][a][s, :])\n",
    "\n",
    "# Cost\n",
    "print('Cost for the selected state/action:')\n",
    "print(M[3][s, a])\n",
    "\n",
    "# Discount\n",
    "print('Discount:', M[4])\n",
    "```\n",
    "\n",
    "Output:\n",
    "\n",
    "```\n",
    "Number of states: 501\n",
    "Random state: (1, 0, 0, 2)\n",
    "Final state: Final\n",
    "Number of actions: 6\n",
    "Random action: West\n",
    "Transition probabilities for the selected state/action:\n",
    "[ 0.  0.  0.  0.  0.  0.  0.  0.  0.  0.  0.  0.  0.  0.  0.  0.  0.  0.\n",
    "  0.  0.  0.  0.  0.  0.  0.  0.  0.  0.  0.  0.  0.  0.  0.  0.  0.  0.\n",
    "  0.  0.  0.  0.  0.  0.  0.  0.  0.  0.  0.  0.  0.  0.  0.  0.  0.  0.\n",
    "  0.  0.  0.  0.  0.  0.  0.  0.  0.  0.  0.  0.  0.  0.  0.  0.  0.  0.\n",
    "  0.  0.  0.  0.  0.  0.  0.  0.  0.  0.  0.  0.  0.  0.  0.  0.  0.  0.\n",
    "  0.  0.  0.  0.  0.  0.  0.  0.  0.  0.  0.  0.  1.  0.  0.  0.  0.  0.\n",
    "  0.  0.  0.  0.  0.  0.  0.  0.  0.  0.  0.  0.  0.  0.  0.  0.  0.  0.\n",
    "  0.  0.  0.  0.  0.  0.  0.  0.  0.  0.  0.  0.  0.  0.  0.  0.  0.  0.\n",
    "  0.  0.  0.  0.  0.  0.  0.  0.  0.  0.  0.  0.  0.  0.  0.  0.  0.  0.\n",
    "  0.  0.  0.  0.  0.  0.  0.  0.  0.  0.  0.  0.  0.  0.  0.  0.  0.  0.\n",
    "  0.  0.  0.  0.  0.  0.  0.  0.  0.  0.  0.  0.  0.  0.  0.  0.  0.  0.\n",
    "  0.  0.  0.  0.  0.  0.  0.  0.  0.  0.  0.  0.  0.  0.  0.  0.  0.  0.\n",
    "  0.  0.  0.  0.  0.  0.  0.  0.  0.  0.  0.  0.  0.  0.  0.  0.  0.  0.\n",
    "  0.  0.  0.  0.  0.  0.  0.  0.  0.  0.  0.  0.  0.  0.  0.  0.  0.  0.\n",
    "  0.  0.  0.  0.  0.  0.  0.  0.  0.  0.  0.  0.  0.  0.  0.  0.  0.  0.\n",
    "  0.  0.  0.  0.  0.  0.  0.  0.  0.  0.  0.  0.  0.  0.  0.  0.  0.  0.\n",
    "  0.  0.  0.  0.  0.  0.  0.  0.  0.  0.  0.  0.  0.  0.  0.  0.  0.  0.\n",
    "  0.  0.  0.  0.  0.  0.  0.  0.  0.  0.  0.  0.  0.  0.  0.  0.  0.  0.\n",
    "  0.  0.  0.  0.  0.  0.  0.  0.  0.  0.  0.  0.  0.  0.  0.  0.  0.  0.\n",
    "  0.  0.  0.  0.  0.  0.  0.  0.  0.  0.  0.  0.  0.  0.  0.  0.  0.  0.\n",
    "  0.  0.  0.  0.  0.  0.  0.  0.  0.  0.  0.  0.  0.  0.  0.  0.  0.  0.\n",
    "  0.  0.  0.  0.  0.  0.  0.  0.  0.  0.  0.  0.  0.  0.  0.  0.  0.  0.\n",
    "  0.  0.  0.  0.  0.  0.  0.  0.  0.  0.  0.  0.  0.  0.  0.  0.  0.  0.\n",
    "  0.  0.  0.  0.  0.  0.  0.  0.  0.  0.  0.  0.  0.  0.  0.  0.  0.  0.\n",
    "  0.  0.  0.  0.  0.  0.  0.  0.  0.  0.  0.  0.  0.  0.  0.  0.  0.  0.\n",
    "  0.  0.  0.  0.  0.  0.  0.  0.  0.  0.  0.  0.  0.  0.  0.  0.  0.  0.\n",
    "  0.  0.  0.  0.  0.  0.  0.  0.  0.  0.  0.  0.  0.  0.  0.  0.  0.  0.\n",
    "  0.  0.  0.  0.  0.  0.  0.  0.  0.  0.  0.  0.  0.  0.  0.]\n",
    "Cost for the selected state/action:\n",
    "0.7\n",
    "Discount: 0.99\n",
    "```"
   ]
  },
  {
   "cell_type": "code",
   "execution_count": 2,
   "metadata": {
    "ExecuteTime": {
     "end_time": "2019-10-22T17:35:56.186450Z",
     "start_time": "2019-10-22T17:35:55.870872Z"
    }
   },
   "outputs": [
    {
     "name": "stdout",
     "output_type": "stream",
     "text": [
      "Number of states: 501\n",
      "Random state: (1, 0, 0, 2)\n",
      "Final state: Final\n",
      "Number of actions: 6\n",
      "Random action: West\n",
      "Transition probabilities for the selected state/action:\n",
      "[0. 0. 0. 0. 0. 0. 0. 0. 0. 0. 0. 0. 0. 0. 0. 0. 0. 0. 0. 0. 0. 0. 0. 0.\n",
      " 0. 0. 0. 0. 0. 0. 0. 0. 0. 0. 0. 0. 0. 0. 0. 0. 0. 0. 0. 0. 0. 0. 0. 0.\n",
      " 0. 0. 0. 0. 0. 0. 0. 0. 0. 0. 0. 0. 0. 0. 0. 0. 0. 0. 0. 0. 0. 0. 0. 0.\n",
      " 0. 0. 0. 0. 0. 0. 0. 0. 0. 0. 0. 0. 0. 0. 0. 0. 0. 0. 0. 0. 0. 0. 0. 0.\n",
      " 0. 0. 0. 0. 0. 0. 1. 0. 0. 0. 0. 0. 0. 0. 0. 0. 0. 0. 0. 0. 0. 0. 0. 0.\n",
      " 0. 0. 0. 0. 0. 0. 0. 0. 0. 0. 0. 0. 0. 0. 0. 0. 0. 0. 0. 0. 0. 0. 0. 0.\n",
      " 0. 0. 0. 0. 0. 0. 0. 0. 0. 0. 0. 0. 0. 0. 0. 0. 0. 0. 0. 0. 0. 0. 0. 0.\n",
      " 0. 0. 0. 0. 0. 0. 0. 0. 0. 0. 0. 0. 0. 0. 0. 0. 0. 0. 0. 0. 0. 0. 0. 0.\n",
      " 0. 0. 0. 0. 0. 0. 0. 0. 0. 0. 0. 0. 0. 0. 0. 0. 0. 0. 0. 0. 0. 0. 0. 0.\n",
      " 0. 0. 0. 0. 0. 0. 0. 0. 0. 0. 0. 0. 0. 0. 0. 0. 0. 0. 0. 0. 0. 0. 0. 0.\n",
      " 0. 0. 0. 0. 0. 0. 0. 0. 0. 0. 0. 0. 0. 0. 0. 0. 0. 0. 0. 0. 0. 0. 0. 0.\n",
      " 0. 0. 0. 0. 0. 0. 0. 0. 0. 0. 0. 0. 0. 0. 0. 0. 0. 0. 0. 0. 0. 0. 0. 0.\n",
      " 0. 0. 0. 0. 0. 0. 0. 0. 0. 0. 0. 0. 0. 0. 0. 0. 0. 0. 0. 0. 0. 0. 0. 0.\n",
      " 0. 0. 0. 0. 0. 0. 0. 0. 0. 0. 0. 0. 0. 0. 0. 0. 0. 0. 0. 0. 0. 0. 0. 0.\n",
      " 0. 0. 0. 0. 0. 0. 0. 0. 0. 0. 0. 0. 0. 0. 0. 0. 0. 0. 0. 0. 0. 0. 0. 0.\n",
      " 0. 0. 0. 0. 0. 0. 0. 0. 0. 0. 0. 0. 0. 0. 0. 0. 0. 0. 0. 0. 0. 0. 0. 0.\n",
      " 0. 0. 0. 0. 0. 0. 0. 0. 0. 0. 0. 0. 0. 0. 0. 0. 0. 0. 0. 0. 0. 0. 0. 0.\n",
      " 0. 0. 0. 0. 0. 0. 0. 0. 0. 0. 0. 0. 0. 0. 0. 0. 0. 0. 0. 0. 0. 0. 0. 0.\n",
      " 0. 0. 0. 0. 0. 0. 0. 0. 0. 0. 0. 0. 0. 0. 0. 0. 0. 0. 0. 0. 0. 0. 0. 0.\n",
      " 0. 0. 0. 0. 0. 0. 0. 0. 0. 0. 0. 0. 0. 0. 0. 0. 0. 0. 0. 0. 0. 0. 0. 0.\n",
      " 0. 0. 0. 0. 0. 0. 0. 0. 0. 0. 0. 0. 0. 0. 0. 0. 0. 0. 0. 0. 0.]\n",
      "Cost for the selected state/action:\n",
      "0.7\n",
      "Discount: 0.99\n"
     ]
    }
   ],
   "source": [
    "import numpy.random as rand\n",
    "\n",
    "M = load_mdp('taxi.npz', 0.99)\n",
    "\n",
    "rand.seed(42)\n",
    "\n",
    "# States\n",
    "print('Number of states:', len(M[0]))\n",
    "\n",
    "# Random state\n",
    "s = rand.randint(len(M[0]))\n",
    "print('Random state:', M[0][s])\n",
    "\n",
    "# Final state\n",
    "print('Final state:', M[0][-1])\n",
    "\n",
    "# Actions\n",
    "print('Number of actions:', len(M[1]))\n",
    "\n",
    "# Random action\n",
    "a = rand.randint(len(M[1]))\n",
    "print('Random action:', M[1][a])\n",
    "\n",
    "# Transition probabilities\n",
    "print('Transition probabilities for the selected state/action:')\n",
    "print(M[2][a][s, :])\n",
    "\n",
    "# Cost\n",
    "print('Cost for the selected state/action:')\n",
    "print(M[3][s, a])\n",
    "\n",
    "# Discount\n",
    "print('Discount:', M[4])"
   ]
  },
  {
   "cell_type": "markdown",
   "metadata": {},
   "source": [
    "### 2. Prediction\n",
    "\n",
    "You are now going to evaluate a given policy, computing the corresponding cost-to-go."
   ]
  },
  {
   "cell_type": "markdown",
   "metadata": {
    "raw_mimetype": "text/latex"
   },
   "source": [
    "---\n",
    "\n",
    "#### Activity 2.\n",
    "\n",
    "You will now describe the policy that, at each state $x$, always moves the taxi down (South). Recall that the action \"South\" corresponds to the action index $0$. Your policy should be a `numpy` array named `pol` with as many rows as states and as many columns as actions, where `pol[s,a]` should contain the probability of action `a` in state `s` according to the desired policy. \n",
    "\n",
    "---"
   ]
  },
  {
   "cell_type": "code",
   "execution_count": 3,
   "metadata": {
    "ExecuteTime": {
     "end_time": "2019-10-22T17:35:56.238383Z",
     "start_time": "2019-10-22T17:35:56.202434Z"
    }
   },
   "outputs": [
    {
     "name": "stdout",
     "output_type": "stream",
     "text": [
      "Policy of action South:\n",
      "  [[1. 0. 0. 0. 0. 0.]\n",
      " [1. 0. 0. 0. 0. 0.]\n",
      " [1. 0. 0. 0. 0. 0.]\n",
      " ...\n",
      " [1. 0. 0. 0. 0. 0.]\n",
      " [1. 0. 0. 0. 0. 0.]\n",
      " [1. 0. 0. 0. 0. 0.]]\n"
     ]
    }
   ],
   "source": [
    "pol = np.zeros( ( len(M[0]),len(M[1]) ) ) # number states \\times number actions\n",
    "pol[:,0] = 1 # Always go down => every state get a 1 in the colomn \"down\" => index 0\n",
    "print('Policy of action South:\\n ',pol)"
   ]
  },
  {
   "cell_type": "markdown",
   "metadata": {},
   "source": [
    "---\n",
    "\n",
    "#### Activity 3.\n",
    "\n",
    "You will now write a function called `evaluate_pol` that evaluates a given policy. Your function should receive, as an input, an MDP described as a tuple like that of **Activity 1** and a policy described as an array like that of **Activity 2** and return a `numpy` array corresponding to the cost-to-go function associated with the given policy.\n",
    "\n",
    "---"
   ]
  },
  {
   "cell_type": "code",
   "execution_count": 4,
   "metadata": {
    "ExecuteTime": {
     "end_time": "2019-10-22T17:35:56.306287Z",
     "start_time": "2019-10-22T17:35:56.254367Z"
    }
   },
   "outputs": [],
   "source": [
    "# return the cost-to-go to every state associated to a given policy\n",
    "def evaluate_pol(M, pol):\n",
    "    n_actions = len(M[1])\n",
    "    n_states  = len(M[0])\n",
    "    I         = np.eye(n_states)\n",
    "    cost      = M[3]\n",
    "    P         = M[2]\n",
    "    \n",
    "    Ppi = pol[:,0,None]*P[0]\n",
    "    cpi = (pol * cost).sum(axis=1)\n",
    "    for a in range(1,n_actions):\n",
    "        Ppi += pol[:,a,None]*P[a]\n",
    "    Jpi = np.linalg.inv(I-M[4]*Ppi).dot(cpi)\n",
    "    \n",
    "    return Jpi[:,None]"
   ]
  },
  {
   "cell_type": "markdown",
   "metadata": {},
   "source": [
    "As an example, you can evaluate the policy from **Activity 2** in the MDP from **Activity 1**.\n",
    "\n",
    "```python\n",
    "Jpi = evaluate_pol(M, pol)\n",
    "\n",
    "rand.seed(42)\n",
    "\n",
    "s = rand.randint(len(M[0]))\n",
    "print('Cost to go at state %s:' % M[0][s], Jpi[s])\n",
    "\n",
    "s = rand.randint(len(M[0]))\n",
    "print('Cost to go at state %s:' % M[0][s], Jpi[s])\n",
    "\n",
    "s = rand.randint(len(M[0]))\n",
    "print('Cost to go at state %s:' % M[0][s], Jpi[s])\n",
    "```\n",
    "\n",
    "Output: \n",
    "```\n",
    "Cost to go at state (1, 0, 0, 2): [70.]\n",
    "Cost to go at state (4, 1, 3, 3): [70.]\n",
    "Cost to go at state (3, 2, 2, 0): [70.]\n",
    "```"
   ]
  },
  {
   "cell_type": "code",
   "execution_count": 5,
   "metadata": {
    "ExecuteTime": {
     "end_time": "2019-10-22T17:35:56.561947Z",
     "start_time": "2019-10-22T17:35:56.318277Z"
    }
   },
   "outputs": [
    {
     "name": "stdout",
     "output_type": "stream",
     "text": [
      "Cost to go at state (1, 0, 0, 2): [70.]\n",
      "Cost to go at state (4, 1, 3, 3): [70.]\n",
      "Cost to go at state (3, 2, 2, 0): [70.]\n"
     ]
    }
   ],
   "source": [
    "Jpi = evaluate_pol(M, pol)\n",
    "\n",
    "rand.seed(42)\n",
    "\n",
    "s = rand.randint(len(M[0]))\n",
    "print('Cost to go at state %s:' % M[0][s], Jpi[s])\n",
    "\n",
    "s = rand.randint(len(M[0]))\n",
    "print('Cost to go at state %s:' % M[0][s], Jpi[s])\n",
    "\n",
    "s = rand.randint(len(M[0]))\n",
    "print('Cost to go at state %s:' % M[0][s], Jpi[s])"
   ]
  },
  {
   "cell_type": "markdown",
   "metadata": {},
   "source": [
    "### 3. Control\n",
    "\n",
    "In this section you are going to compare value and policy iteration, both in terms of time and number of iterations."
   ]
  },
  {
   "cell_type": "markdown",
   "metadata": {},
   "source": [
    "---\n",
    "\n",
    "#### Activity 4\n",
    "\n",
    "In this activity you will show that the policy in Activity 3 is _not_ optimal. For that purpose, you will use value iteration to compute the optimal cost-to-go, $J^*$, and show that $J^*\\neq J^\\pi$. \n",
    "\n",
    "Write a function called `value_iteration` that receives as input an MDP represented as a tuple like that of **Activity 1** and returns an `numpy` array corresponding to the optimal cost-to-go function associated with that MDP. Before returning, your function should print:\n",
    "\n",
    "* The time it took to run, in the format `Execution time: xxx seconds`, where `xxx` represents the number of seconds rounded up to $3$ decimal places.\n",
    "* The number of iterations, in the format `N. iterations: xxx`, where `xxx` represents the number of iterations.\n",
    "\n",
    "**Note 1:** Stop the algorithm when the error between iterations is smaller than $10^{-8}$.\n",
    "\n",
    "**Note 2:** You may find useful the function ``time()`` from the module ``time``.\n",
    "\n",
    "---"
   ]
  },
  {
   "cell_type": "code",
   "execution_count": 6,
   "metadata": {
    "ExecuteTime": {
     "end_time": "2019-10-22T17:35:56.645834Z",
     "start_time": "2019-10-22T17:35:56.569939Z"
    },
    "scrolled": false
   },
   "outputs": [],
   "source": [
    "import time\n",
    "# Add your code here.\n",
    "def value_iteration(M):\n",
    "    # init\n",
    "    k         = 0\n",
    "    n_actions = len(M[1])\n",
    "    n_states  = len(M[0])\n",
    "    J         = np.zeros( n_states )\n",
    "    epsilon   = 1e-8\n",
    "    cost      = M[3]\n",
    "    P         = M[2]\n",
    "    gamma     = M[4]\n",
    "    Q         = np.empty( (n_states,n_actions) )\n",
    "    start = time.time()\n",
    "    while True:\n",
    "        # Q-functions\n",
    "        for a in range(n_actions):\n",
    "            Q[:,a] = cost[:,a] + gamma*(P[a]*J).sum(axis=1)\n",
    "        J_new = np.min(Q,axis=1)\n",
    "        if np.linalg.norm(J_new-J) < epsilon:\n",
    "            elapsed = time.time() - start\n",
    "            print(\"Execution time: %.3f seconds\" % elapsed)\n",
    "            k += 1\n",
    "            print(\"N. iterations: \", k)\n",
    "            break\n",
    "        else:\n",
    "            J = J_new\n",
    "            k += 1\n",
    "    return J_new"
   ]
  },
  {
   "cell_type": "markdown",
   "metadata": {},
   "source": [
    "For example, the optimal cost-to-go for the MDP from **Activity 1** is can be computed as follows.\n",
    "\n",
    "```python\n",
    "Jopt = value_iteration(M)\n",
    "\n",
    "rand.seed(42)\n",
    "\n",
    "s = rand.randint(len(M[0]))\n",
    "print('Cost to go at state %s:' % M[0][s], Jopt[s])\n",
    "\n",
    "s = rand.randint(len(M[0]))\n",
    "print('Cost to go at state %s:' % M[0][s], Jopt[s])\n",
    "\n",
    "s = rand.randint(len(M[0]))\n",
    "print('Cost to go at state %s:' % M[0][s], Jopt[s])\n",
    "\n",
    "print('\\nIs the policy from Activity 2 optimal?', np.all(np.isclose(Jopt, Jpi)))\n",
    "```\n",
    "\n",
    "Output:\n",
    "```\n",
    "Execution time: 0.031 seconds\n",
    "N. iterations: 18\n",
    "Cost to go at state (1, 0, 0, 2): [4.1]\n",
    "Cost to go at state (4, 1, 3, 3): [4.76]\n",
    "Cost to go at state (3, 2, 2, 0): [6.69]\n",
    "\n",
    "Is the policy from Activity 2 optimal? False\n",
    "```"
   ]
  },
  {
   "cell_type": "code",
   "execution_count": 7,
   "metadata": {
    "ExecuteTime": {
     "end_time": "2019-10-22T17:35:57.638235Z",
     "start_time": "2019-10-22T17:35:56.653823Z"
    }
   },
   "outputs": [
    {
     "name": "stdout",
     "output_type": "stream",
     "text": [
      "Execution time: 0.894 seconds\n",
      "N. iterations:  18\n",
      "Cost to go at state (1, 0, 0, 2): 4.09638954193\n",
      "Cost to go at state (4, 1, 3, 3): 4.7554256465107\n",
      "Cost to go at state (3, 2, 2, 0): 6.693254749383686\n",
      "\n",
      "Is the policy from Activity 2 optimal? False\n"
     ]
    }
   ],
   "source": [
    "Jopt = value_iteration(M)\n",
    "\n",
    "rand.seed(42)\n",
    "\n",
    "s = rand.randint(len(M[0]))\n",
    "print('Cost to go at state %s:' % M[0][s], Jopt[s])\n",
    "\n",
    "s = rand.randint(len(M[0]))\n",
    "print('Cost to go at state %s:' % M[0][s], Jopt[s])\n",
    "\n",
    "s = rand.randint(len(M[0]))\n",
    "print('Cost to go at state %s:' % M[0][s], Jopt[s])\n",
    "\n",
    "print('\\nIs the policy from Activity 2 optimal?', np.all(np.isclose(Jopt, Jpi)))"
   ]
  },
  {
   "cell_type": "markdown",
   "metadata": {},
   "source": [
    "---\n",
    "\n",
    "#### Activity 5\n",
    "\n",
    "You will now compute the optimal policy using policy iteration. Write a function called `policy_iteration` that receives as input an MDP represented as a tuple like that of **Activity 1** and returns an `numpy` array corresponding to the optimal policy associated with that MDP. Your function should print the time it takes to run before returning, in the format `Execution time: xxx seconds`, where `xxx` represents the number of seconds rounded up to $3$ decimal places.\n",
    "\n",
    "**Note:** If you find that numerical errors affect your computations (especially when comparing two values/arrays) you may use the `numpy` function `isclose` with adequately set absolute and relative tolerance parameters (e.g., $10^{-8}$).\n",
    "\n",
    "---"
   ]
  },
  {
   "cell_type": "code",
   "execution_count": 8,
   "metadata": {
    "ExecuteTime": {
     "end_time": "2019-10-22T17:35:57.729594Z",
     "start_time": "2019-10-22T17:35:57.657690Z"
    },
    "scrolled": false
   },
   "outputs": [],
   "source": [
    "def policy_iteration(M):\n",
    "    \n",
    "    ## init ##\n",
    "    n_actions = len(M[1])\n",
    "    n_states  = len(M[0])\n",
    "    cost      = M[3]\n",
    "    P         = M[2]\n",
    "    gamma     = M[4]\n",
    "    k         = 0\n",
    "    epsilon   = 1e-8\n",
    "    pol       = np.ones( (n_states,n_actions ) ) / n_actions\n",
    "    Q         = np.zeros( (n_states,n_actions) )\n",
    "    start     = time.time()        \n",
    "    \n",
    "    while True: #loop over k => step of policy iteration\n",
    "\n",
    "        ## Policy Evalution ##\n",
    "        J = evaluate_pol(M, pol) # Contraction\n",
    "        #print(J.shape) #=> J < 0 ?\n",
    "        \n",
    "        ## Q-functions ##\n",
    "        for a in range(n_actions):\n",
    "            Q[:,a,None] = cost[:,a,None] + gamma * P[a].dot(J)        \n",
    "        Qmin = Q.min(axis=1, keepdims=True)\n",
    "        \n",
    "        ## Improved policy ##\n",
    "        pol_new = np.isclose(Q,Qmin, atol=epsilon,rtol=epsilon).astype(int)     \n",
    "        pol_new = pol_new / pol_new.sum(axis=1, keepdims=True) #normalization\n",
    "        \n",
    "        if (pol == pol_new).all():\n",
    "            elapsed = time.time() - start\n",
    "            k += 1\n",
    "            print(\"Execution time: %.3f seconds\" % elapsed)\n",
    "            print(\"N. iterations: \", k)\n",
    "            break\n",
    "        else:\n",
    "            pol = pol_new\n",
    "            k += 1\n",
    "            \n",
    "    return pol_new"
   ]
  },
  {
   "cell_type": "markdown",
   "metadata": {},
   "source": [
    "For example, the optimal policy for the MDP from **Activity 1** is can be computed as follows.\n",
    "\n",
    "```python\n",
    "popt = policy_iteration(M)\n",
    "\n",
    "rand.seed(42)\n",
    "\n",
    "# Select random state, and action using the policy computed\n",
    "s = rand.randint(len(M[0]))\n",
    "a = rand.choice(len(M[1]), p=popt[s, :])\n",
    "print('Policy at state %s: %s' % (M[0][s], M[1][a]))\n",
    "\n",
    "# Select random state, and action using the policy computed\n",
    "s = rand.randint(len(M[0]))\n",
    "a = rand.choice(len(M[1]), p=popt[s, :])\n",
    "print('Policy at state %s: %s' % (M[0][s], M[1][a]))\n",
    "\n",
    "# Select random state, and action using the policy computed\n",
    "s = rand.randint(len(M[0]))\n",
    "a = rand.choice(len(M[1]), p=popt[s, :])\n",
    "print('Policy at state %s: %s' % (M[0][s], M[1][a]))\n",
    "```\n",
    "\n",
    "Output:\n",
    "```\n",
    "Execution time: 0.089 seconds\n",
    "N. iterations: 3\n",
    "Policy at state (1, 0, 0, 2): North\n",
    "Policy at state (2, 3, 2, 2): West\n",
    "Policy at state (1, 4, 2, 0): West\n",
    "```"
   ]
  },
  {
   "cell_type": "code",
   "execution_count": 9,
   "metadata": {
    "ExecuteTime": {
     "end_time": "2019-10-22T17:35:58.204959Z",
     "start_time": "2019-10-22T17:35:57.741580Z"
    },
    "scrolled": false
   },
   "outputs": [
    {
     "name": "stdout",
     "output_type": "stream",
     "text": [
      "Execution time: 0.375 seconds\n",
      "N. iterations:  3\n",
      "Policy at state (1, 0, 0, 2): North\n",
      "Policy at state (2, 3, 2, 2): West\n",
      "Policy at state (1, 4, 2, 0): West\n"
     ]
    }
   ],
   "source": [
    "popt = policy_iteration(M)\n",
    "\n",
    "rand.seed(42)\n",
    "\n",
    "# Select random state, and action using the policy computed\n",
    "s = rand.randint(len(M[0]))\n",
    "a = rand.choice(len(M[1]), p=popt[s, :])\n",
    "print('Policy at state %s: %s' % (M[0][s], M[1][a]))\n",
    "\n",
    "# Select random state, and action using the policy computed\n",
    "s = rand.randint(len(M[0]))\n",
    "a = rand.choice(len(M[1]), p=popt[s, :])\n",
    "print('Policy at state %s: %s' % (M[0][s], M[1][a]))\n",
    "\n",
    "# Select random state, and action using the policy computed\n",
    "s = rand.randint(len(M[0]))\n",
    "a = rand.choice(len(M[1]), p=popt[s, :])\n",
    "print('Policy at state %s: %s' % (M[0][s], M[1][a]))"
   ]
  },
  {
   "cell_type": "markdown",
   "metadata": {},
   "source": [
    "### 4. Simulation\n",
    "\n",
    "Finally, in this section you will check whether the theoretical computations of the cost-to-go actually correspond to the cost incurred by an agent following a policy."
   ]
  },
  {
   "cell_type": "markdown",
   "metadata": {},
   "source": [
    "---\n",
    "\n",
    "#### Activity 6\n",
    "\n",
    "Write a function `simulate` that receives, as inputs\n",
    "\n",
    "* An MDP represented as a tuple like that of **Activity 1**;\n",
    "* A policy, represented as an `numpy` array like that of **Activity 2**;\n",
    "* An integer, corresponding to a state index\n",
    "\n",
    "Your function should return, as an output, a float corresponding to the estimated cost-to-go associated with the provided policy at the provided state. To estimate such cost-to-go, your function should:\n",
    "\n",
    "* Generate **100** trajectories of 10,000 steps each, starting in the provided state and following the provided policy. \n",
    "* For each trajectory, compute the accumulated (discounted) cost. \n",
    "* Compute the average cost over the 100 trajectories.\n",
    "\n",
    "**Note 1:** You may find useful to import the numpy module `numpy.random`.\n",
    "\n",
    "**Note 2:** Each simulation may take a bit of time, don't despair ☺️.\n",
    "\n",
    "---"
   ]
  },
  {
   "cell_type": "code",
   "execution_count": 10,
   "metadata": {
    "ExecuteTime": {
     "end_time": "2019-10-22T17:35:58.260886Z",
     "start_time": "2019-10-22T17:35:58.212951Z"
    }
   },
   "outputs": [],
   "source": [
    "def simulate(M,pol,state):\n",
    "    n_actions   = len(M[1])\n",
    "    n_states    = len(M[0])\n",
    "    P           = M[2]\n",
    "    cost        = M[3]\n",
    "    total_traj  = 0\n",
    "    n_steps     = 10000\n",
    "    n_iter      = 100\n",
    "    \n",
    "    for i in range(n_iter):\n",
    "        step = 0\n",
    "        while( step < n_steps ):\n",
    "            action = np.random.choice(np.arange(0,n_actions),p=pol[state,:])\n",
    "            total_traj += pow(M[4],step)*cost[state,action]\n",
    "            state  = np.random.choice(np.arange(0,n_states),p=P[action][state,:])\n",
    "            step += 1\n",
    "        print(i,end = ' ')\n",
    "    return total_traj "
   ]
  },
  {
   "cell_type": "markdown",
   "metadata": {},
   "source": [
    "For example, we can use this function to estimate the values of some random states and compare them with those from **Activity 4**.\n",
    "\n",
    "```python\n",
    "\n",
    "rand.seed(42)\n",
    "\n",
    "# Select random state, and evaluate for the optimal policy\n",
    "s = rand.randint(len(M[0]))\n",
    "print('Cost-to-go for state %s:' % M[0][s])\n",
    "print('\\tTheoretical:', Jopt[s])\n",
    "print('\\tEmpirical:', simulate(M, popt, s))\n",
    "\n",
    "# Select random state, and evaluate for the optimal policy\n",
    "s = rand.randint(len(M[0]))\n",
    "print('Cost-to-go for state %s:' % M[0][s])\n",
    "print('\\tTheoretical:', Jopt[s])\n",
    "print('\\tEmpirical:', simulate(M, popt, s))\n",
    "\n",
    "# Select random state, and evaluate for the optimal policy\n",
    "s = rand.randint(len(M[0]))\n",
    "print('Cost-to-go for state %s:' % M[0][s])\n",
    "print('\\tTheoretical:', Jopt[s])\n",
    "print('\\tEmpirical:', simulate(M, popt, s))\n",
    "```\n",
    "\n",
    "Output:\n",
    "````\n",
    "Cost-to-go for state (1, 0, 0, 2):\n",
    "\tTheoretical: [ 4.1]\n",
    "\tEmpirical: 4.39338954193 # 4.096... actually\n",
    "Cost-to-go for state (3, 1, 4, 1):\n",
    "\tTheoretical: [ 4.1]\n",
    "\tEmpirical: 4.09638954193\n",
    "Cost-to-go for state (3, 2, 2, 2):\n",
    "\tTheoretical: [ 4.1]\n",
    "\tEmpirical: 4.3816865569 # 4.096... actually\n",
    "```"
   ]
  },
  {
   "cell_type": "code",
   "execution_count": 11,
   "metadata": {
    "ExecuteTime": {
     "end_time": "2019-10-22T17:36:29.513767Z",
     "start_time": "2019-10-22T17:35:58.268877Z"
    }
   },
   "outputs": [
    {
     "name": "stdout",
     "output_type": "stream",
     "text": [
      "Cost-to-go for state (1, 0, 0, 2):\n",
      "\tTheoretical: 4.09638954193\n",
      "0 1 2 3 4 5 6 7 8 9 "
     ]
    },
    {
     "ename": "KeyboardInterrupt",
     "evalue": "",
     "output_type": "error",
     "traceback": [
      "\u001b[1;31m---------------------------------------------------------------------------\u001b[0m",
      "\u001b[1;31mKeyboardInterrupt\u001b[0m                         Traceback (most recent call last)",
      "\u001b[1;32m<ipython-input-11-a9c349dc7fce>\u001b[0m in \u001b[0;36m<module>\u001b[1;34m\u001b[0m\n\u001b[0;32m      5\u001b[0m \u001b[0mprint\u001b[0m\u001b[1;33m(\u001b[0m\u001b[1;34m'Cost-to-go for state %s:'\u001b[0m \u001b[1;33m%\u001b[0m \u001b[0mM\u001b[0m\u001b[1;33m[\u001b[0m\u001b[1;36m0\u001b[0m\u001b[1;33m]\u001b[0m\u001b[1;33m[\u001b[0m\u001b[0ms\u001b[0m\u001b[1;33m]\u001b[0m\u001b[1;33m)\u001b[0m\u001b[1;33m\u001b[0m\u001b[1;33m\u001b[0m\u001b[0m\n\u001b[0;32m      6\u001b[0m \u001b[0mprint\u001b[0m\u001b[1;33m(\u001b[0m\u001b[1;34m'\\tTheoretical:'\u001b[0m\u001b[1;33m,\u001b[0m \u001b[0mJopt\u001b[0m\u001b[1;33m[\u001b[0m\u001b[0ms\u001b[0m\u001b[1;33m]\u001b[0m\u001b[1;33m)\u001b[0m\u001b[1;33m\u001b[0m\u001b[1;33m\u001b[0m\u001b[0m\n\u001b[1;32m----> 7\u001b[1;33m \u001b[0mprint\u001b[0m\u001b[1;33m(\u001b[0m\u001b[1;34m'\\tEmpirical:'\u001b[0m\u001b[1;33m,\u001b[0m \u001b[0msimulate\u001b[0m\u001b[1;33m(\u001b[0m\u001b[0mM\u001b[0m\u001b[1;33m,\u001b[0m \u001b[0mpopt\u001b[0m\u001b[1;33m,\u001b[0m \u001b[0ms\u001b[0m\u001b[1;33m)\u001b[0m\u001b[1;33m)\u001b[0m\u001b[1;33m\u001b[0m\u001b[1;33m\u001b[0m\u001b[0m\n\u001b[0m\u001b[0;32m      8\u001b[0m \u001b[1;33m\u001b[0m\u001b[0m\n\u001b[0;32m      9\u001b[0m \u001b[1;31m# Select random state, and evaluate for the optimal policy\u001b[0m\u001b[1;33m\u001b[0m\u001b[1;33m\u001b[0m\u001b[1;33m\u001b[0m\u001b[0m\n",
      "\u001b[1;32m<ipython-input-10-5f8a8a5e2ac5>\u001b[0m in \u001b[0;36msimulate\u001b[1;34m(M, pol, state)\u001b[0m\n\u001b[0;32m     13\u001b[0m             \u001b[0maction\u001b[0m \u001b[1;33m=\u001b[0m \u001b[0mnp\u001b[0m\u001b[1;33m.\u001b[0m\u001b[0mrandom\u001b[0m\u001b[1;33m.\u001b[0m\u001b[0mchoice\u001b[0m\u001b[1;33m(\u001b[0m\u001b[0mnp\u001b[0m\u001b[1;33m.\u001b[0m\u001b[0marange\u001b[0m\u001b[1;33m(\u001b[0m\u001b[1;36m0\u001b[0m\u001b[1;33m,\u001b[0m\u001b[0mn_actions\u001b[0m\u001b[1;33m)\u001b[0m\u001b[1;33m,\u001b[0m\u001b[0mp\u001b[0m\u001b[1;33m=\u001b[0m\u001b[0mpol\u001b[0m\u001b[1;33m[\u001b[0m\u001b[0mstate\u001b[0m\u001b[1;33m,\u001b[0m\u001b[1;33m:\u001b[0m\u001b[1;33m]\u001b[0m\u001b[1;33m)\u001b[0m\u001b[1;33m\u001b[0m\u001b[1;33m\u001b[0m\u001b[0m\n\u001b[0;32m     14\u001b[0m             \u001b[0mtotal_traj\u001b[0m \u001b[1;33m+=\u001b[0m \u001b[0mpow\u001b[0m\u001b[1;33m(\u001b[0m\u001b[0mM\u001b[0m\u001b[1;33m[\u001b[0m\u001b[1;36m4\u001b[0m\u001b[1;33m]\u001b[0m\u001b[1;33m,\u001b[0m\u001b[0mstep\u001b[0m\u001b[1;33m)\u001b[0m\u001b[1;33m*\u001b[0m\u001b[0mcost\u001b[0m\u001b[1;33m[\u001b[0m\u001b[0mstate\u001b[0m\u001b[1;33m,\u001b[0m\u001b[0maction\u001b[0m\u001b[1;33m]\u001b[0m\u001b[1;33m\u001b[0m\u001b[1;33m\u001b[0m\u001b[0m\n\u001b[1;32m---> 15\u001b[1;33m             \u001b[0mstate\u001b[0m  \u001b[1;33m=\u001b[0m \u001b[0mnp\u001b[0m\u001b[1;33m.\u001b[0m\u001b[0mrandom\u001b[0m\u001b[1;33m.\u001b[0m\u001b[0mchoice\u001b[0m\u001b[1;33m(\u001b[0m\u001b[0mnp\u001b[0m\u001b[1;33m.\u001b[0m\u001b[0marange\u001b[0m\u001b[1;33m(\u001b[0m\u001b[1;36m0\u001b[0m\u001b[1;33m,\u001b[0m\u001b[0mn_states\u001b[0m\u001b[1;33m)\u001b[0m\u001b[1;33m,\u001b[0m\u001b[0mp\u001b[0m\u001b[1;33m=\u001b[0m\u001b[0mP\u001b[0m\u001b[1;33m[\u001b[0m\u001b[0maction\u001b[0m\u001b[1;33m]\u001b[0m\u001b[1;33m[\u001b[0m\u001b[0mstate\u001b[0m\u001b[1;33m,\u001b[0m\u001b[1;33m:\u001b[0m\u001b[1;33m]\u001b[0m\u001b[1;33m)\u001b[0m\u001b[1;33m\u001b[0m\u001b[1;33m\u001b[0m\u001b[0m\n\u001b[0m\u001b[0;32m     16\u001b[0m             \u001b[0mstep\u001b[0m \u001b[1;33m+=\u001b[0m \u001b[1;36m1\u001b[0m\u001b[1;33m\u001b[0m\u001b[1;33m\u001b[0m\u001b[0m\n\u001b[0;32m     17\u001b[0m         \u001b[0mprint\u001b[0m\u001b[1;33m(\u001b[0m\u001b[0mi\u001b[0m\u001b[1;33m,\u001b[0m\u001b[0mend\u001b[0m \u001b[1;33m=\u001b[0m \u001b[1;34m' '\u001b[0m\u001b[1;33m)\u001b[0m\u001b[1;33m\u001b[0m\u001b[1;33m\u001b[0m\u001b[0m\n",
      "\u001b[1;31mKeyboardInterrupt\u001b[0m: "
     ]
    }
   ],
   "source": [
    "rand.seed(42)\n",
    "\n",
    "# Select random state, and evaluate for the optimal policy\n",
    "s = rand.randint(len(M[0]))\n",
    "print('Cost-to-go for state %s:' % M[0][s])\n",
    "print('\\tTheoretical:', Jopt[s])\n",
    "print('\\tEmpirical:', simulate(M, popt, s))\n",
    "\n",
    "# Select random state, and evaluate for the optimal policy\n",
    "s = rand.randint(len(M[0]))\n",
    "print('Cost-to-go for state %s:' % M[0][s])\n",
    "print('\\tTheoretical:', Jopt[s])\n",
    "print('\\tEmpirical:', simulate(M, popt, s))\n",
    "\n",
    "# Select random state, and evaluate for the optimal policy\n",
    "s = rand.randint(len(M[0]))\n",
    "print('Cost-to-go for state %s:' % M[0][s])\n",
    "print('\\tTheoretical:', Jopt[s])\n",
    "print('\\tEmpirical:', simulate(M, popt, s))"
   ]
  },
  {
   "cell_type": "code",
   "execution_count": null,
   "metadata": {},
   "outputs": [],
   "source": []
  }
 ],
 "metadata": {
  "celltoolbar": "Raw Cell Format",
  "kernelspec": {
   "display_name": "Python 3",
   "language": "python",
   "name": "python3"
  },
  "language_info": {
   "codemirror_mode": {
    "name": "ipython",
    "version": 3
   },
   "file_extension": ".py",
   "mimetype": "text/x-python",
   "name": "python",
   "nbconvert_exporter": "python",
   "pygments_lexer": "ipython3",
   "version": "3.7.5"
  },
  "varInspector": {
   "cols": {
    "lenName": 16,
    "lenType": 16,
    "lenVar": 40
   },
   "kernels_config": {
    "python": {
     "delete_cmd_postfix": "",
     "delete_cmd_prefix": "del ",
     "library": "var_list.py",
     "varRefreshCmd": "print(var_dic_list())"
    },
    "r": {
     "delete_cmd_postfix": ") ",
     "delete_cmd_prefix": "rm(",
     "library": "var_list.r",
     "varRefreshCmd": "cat(var_dic_list()) "
    }
   },
   "types_to_exclude": [
    "module",
    "function",
    "builtin_function_or_method",
    "instance",
    "_Feature"
   ],
   "window_display": false
  }
 },
 "nbformat": 4,
 "nbformat_minor": 1
}
