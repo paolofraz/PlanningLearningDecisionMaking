{
 "cells": [
  {
   "cell_type": "markdown",
   "metadata": {},
   "source": [
    "# Learning and Decision Making"
   ]
  },
  {
   "cell_type": "markdown",
   "metadata": {},
   "source": [
    "## Laboratory 5: The Taxi Problem Revisited\n",
    "\n",
    "In the end of the lab, you should export the notebook to a Python script (File >> Download as >> Python (.py)). Your file should be named `padi-lab5-groupXX.py`, where the `XX` corresponds to your group number and should be submitted to the e-mail <adi.tecnico@gmail.com>. \n",
    "\n",
    "Make sure...\n",
    "\n",
    "* **... that the subject is of the form `[<group n.>] LAB <lab n.>`.** \n",
    "\n",
    "* **... to strictly respect the specifications in each activity, in terms of the intended inputs, outputs and naming conventions.** \n",
    "\n",
    "In particular, after completing the activities you should be able to replicate the examples provided (although this, in itself, is no guarantee that the activities are correctly completed).\n",
    "\n",
    "### 1. The MDP Model \n",
    "\n",
    "In this lab you will implement several reinforcement learning algorithms, and use a small version of the taxi domain, from Lab 2, to test and compare these algorithms. Don't forget, however, that your functions should work for **any MDP** and not just the one provided. \n",
    "\n",
    "The small taxi domain to be used is represented in the diagram below.\n",
    "\n",
    "<img src=\"small_taxi.png\" width=\"150px\">\n",
    "\n",
    "In the small taxi domain above,\n",
    "\n",
    "* The taxi can be in any of the 9 cells in the diagram. The passenger can be at any of the 2 marked locations ($R$, $B$) or in the taxi. Additionally, the passenger wishes to go to one of the 2 possible destinations. The total number of states, in this case, is $9\\times 4 + 1 = 37$.\n",
    "* At each step, the agent (taxi driver) may move in any of the four directions -- north, south, east and west. It can also try to pickup the passenger or drop off the passenger. \n",
    "* The goal of the taxi driver is to pickup the passenger and drop it at the passenger's desired destination.\n",
    "\n",
    "$$\\diamond$$\n",
    "\n",
    "We start by loading the MDP for the small taxi domain from the file `small_taxi.npz`. The file contains both the MDP, described as a tuple like those from Lab 2, and the corresponding optimal $Q$-function."
   ]
  },
  {
   "cell_type": "code",
   "execution_count": 1,
   "metadata": {
    "ExecuteTime": {
     "end_time": "2019-12-03T17:29:03.390887Z",
     "start_time": "2019-12-03T17:29:03.338994Z"
    },
    "scrolled": false
   },
   "outputs": [],
   "source": [
    "import numpy as np\n",
    "\n",
    "mdp_info = np.load('small_taxi.npz', allow_pickle=True)\n",
    "\n",
    "# The MDP is a tuple (S, A, P, c, gamma)\n",
    "M = mdp_info['M']\n",
    "\n",
    "# We also load the optimal Q-function for the MDP\n",
    "Q = mdp_info['Qopt']"
   ]
  },
  {
   "cell_type": "markdown",
   "metadata": {},
   "source": [
    "In this first activity, you will implement a function that enables you to sample a transition from a given MDP. You will then use this function, in future activities, to generate the data that your agent will use to learn.\n",
    "\n",
    "---\n",
    "\n",
    "#### Activity 1.        \n",
    "\n",
    "Write a function named `sample_transition` that receives, as input, a tuple representing an arbitrary MDP as well as two integers, `s` and `a`, corresponding to the indices of a state and an action. The tuple describing the MDP is similar to `M` in the example above and has 5 elements, where\n",
    "\n",
    "* The first element is a tuple of strings, each string corresponding to a possible state;\n",
    "* The second element is a tuple of strings, each string corresponding to a possible action;\n",
    "* The third element is a tuple of `numpy` arrays, where the element $a$ corresponds to the transition probability matrix for action $a$;\n",
    "* The fourth element is a `numpy` array with as many rows as states and as many columns as actions, and corresponds to the cost function for the MDP;\n",
    "* Finally, the fifth element corresponds to the discount factor for the MDP.\n",
    "\n",
    "Your function should return a tuple `(s, a, c, s')`, where `c` is the cost associated with performing the action with index `a` in the state with index `s`, and `s'` is the index of a state generated from `s` upon selecting action `a`, according to the transition probabilities for the MDP.\n",
    "\n",
    "**Note:** Don't forget to import `numpy.random` to generate the state index `s'`.\n",
    "\n",
    "---"
   ]
  },
  {
   "cell_type": "code",
   "execution_count": 8,
   "metadata": {
    "ExecuteTime": {
     "end_time": "2019-12-03T17:33:49.338598Z",
     "start_time": "2019-12-03T17:33:49.325634Z"
    }
   },
   "outputs": [],
   "source": [
    "import numpy as np\n",
    "import numpy.random as rnd"
   ]
  },
  {
   "cell_type": "code",
   "execution_count": 24,
   "metadata": {
    "ExecuteTime": {
     "end_time": "2019-12-03T17:52:59.342081Z",
     "start_time": "2019-12-03T17:52:59.324173Z"
    },
    "scrolled": false
   },
   "outputs": [],
   "source": [
    "def sample_transition(M,s,a):\n",
    "    c        = M[3][s,a]  # cost for action a in state s\n",
    "    prob     = M[2][a][s] # transitions prob. for being in state s and select action a \n",
    "    n_states = len(M[0])\n",
    "    s1       = rnd.choice(np.arange(0,n_states), p=prob)\n",
    "    \n",
    "    return s, a, c, s1"
   ]
  },
  {
   "cell_type": "markdown",
   "metadata": {},
   "source": [
    "We provide below an example of application of the function with the MDP from `small_taxi.npz` that you can use as a first \"sanity check\" for your code. \n",
    "\n",
    "Do not worry if your random state/action generation leads to different outcomes. Use the states and actions provided and verify that the entries of your MDP match those in the examples.\n",
    "\n",
    "```python\n",
    "import numpy.random as rnd\n",
    "\n",
    "rnd.seed(42)\n",
    "\n",
    "# Select random state and action\n",
    "s = rnd.randint(len(M[0]))\n",
    "a = rnd.randint(len(M[1]))\n",
    "\n",
    "s, a, cnew, snew = sample_transition(M, s, a)\n",
    "\n",
    "print('Observed transition:\\n(', end='')\n",
    "print(s, M[0][s], end=', ')\n",
    "print(a, M[1][a], end=', ')\n",
    "print(cnew, end=', ')\n",
    "print(M[0][snew], end=')\\n')\n",
    "\n",
    "# Select random state and action\n",
    "s = rnd.randint(len(M[0]))\n",
    "a = rnd.randint(len(M[1]))\n",
    "\n",
    "s, a, cnew, snew = sample_transition(M, s, a)\n",
    "\n",
    "print('Observed transition:\\n(', end='')\n",
    "print(s, M[0][s], end=', ')\n",
    "print(a, M[1][a], end=', ')\n",
    "print(cnew, end=', ')\n",
    "print(M[0][snew], end=')\\n')\n",
    "\n",
    "# Select random state and action\n",
    "s = rnd.randint(len(M[0]))\n",
    "a = rnd.randint(len(M[1]))\n",
    "\n",
    "s, a, cnew, snew = sample_transition(M, s, a)\n",
    "\n",
    "print('Observed transition:\\n(', end='')\n",
    "print(s, M[0][s], end=', ')\n",
    "print(a, M[1][a], end=', ')\n",
    "print(cnew, end=', ')\n",
    "print(M[0][snew], end=')\\n')\n",
    "```\n",
    "\n",
    "Output:\n",
    "\n",
    "```\n",
    "Observed transition:\n",
    "(28 (2, T, B), 2 East, 0.5, (3, T, B))\n",
    "Observed transition:\n",
    "(20 (3, T, R), 1 South, 0.5, (3, T, R))\n",
    "Observed transition:\n",
    "(10 (2, B, R), 2 East, 0.5, (3, B, R))\n",
    "```"
   ]
  },
  {
   "cell_type": "code",
   "execution_count": 25,
   "metadata": {
    "ExecuteTime": {
     "end_time": "2019-12-03T17:53:00.139834Z",
     "start_time": "2019-12-03T17:53:00.026139Z"
    }
   },
   "outputs": [
    {
     "name": "stdout",
     "output_type": "stream",
     "text": [
      "Observed transition:\n",
      "(28 (2, T, B), 2 East, 0.5, (3, T, B))\n",
      "Observed transition:\n",
      "(20 (3, T, R), 1 South, 0.5, (3, T, R))\n",
      "Observed transition:\n",
      "(10 (2, B, R), 2 East, 0.5, (3, B, R))\n"
     ]
    }
   ],
   "source": [
    "rnd.seed(42)\n",
    "\n",
    "# Select random state and action\n",
    "s = rnd.randint(len(M[0]))\n",
    "a = rnd.randint(len(M[1]))\n",
    "\n",
    "s, a, cnew, snew = sample_transition(M, s, a)\n",
    "\n",
    "print('Observed transition:\\n(', end='')\n",
    "print(s, M[0][s], end=', ')\n",
    "print(a, M[1][a], end=', ')\n",
    "print(cnew, end=', ')\n",
    "print(M[0][snew], end=')\\n')\n",
    "\n",
    "# Select random state and action\n",
    "s = rnd.randint(len(M[0]))\n",
    "a = rnd.randint(len(M[1]))\n",
    "\n",
    "s, a, cnew, snew = sample_transition(M, s, a)\n",
    "\n",
    "print('Observed transition:\\n(', end='')\n",
    "print(s, M[0][s], end=', ')\n",
    "print(a, M[1][a], end=', ')\n",
    "print(cnew, end=', ')\n",
    "print(M[0][snew], end=')\\n')\n",
    "\n",
    "# Select random state and action\n",
    "s = rnd.randint(len(M[0]))\n",
    "a = rnd.randint(len(M[1]))\n",
    "\n",
    "s, a, cnew, snew = sample_transition(M, s, a)\n",
    "\n",
    "print('Observed transition:\\n(', end='')\n",
    "print(s, M[0][s], end=', ')\n",
    "print(a, M[1][a], end=', ')\n",
    "print(cnew, end=', ')\n",
    "print(M[0][snew], end=')\\n')"
   ]
  },
  {
   "cell_type": "markdown",
   "metadata": {},
   "source": [
    "All reinforcement learning algorithms that you will implement can only access the MDP through the function `sample_transition` which, in a sense, simulates an \"interaction\" of the agent with the environment."
   ]
  },
  {
   "cell_type": "markdown",
   "metadata": {
    "raw_mimetype": "text/latex"
   },
   "source": [
    "---\n",
    "\n",
    "#### Activity 2.        \n",
    "\n",
    "Write down a function named `egreedy` that implements and $\\epsilon$-greedy policy. Your function should receive, as input, a `numpy` array `Q` with shape `(N,)`, for some integer $N$, and, as an optional argument, a floating point number `eps` with a default value `eps=0.1`. Your function should return... \n",
    "\n",
    "* ... with a probability $\\epsilon$, a random index between $0$ and $N-1$.\n",
    "* ... with a probability $1-\\epsilon$, the index between $0$ and $N-1$ corresponding to the minimum value of `Q`. If more than one such index exists, the function should **randomly** select among such indices."
   ]
  },
  {
   "cell_type": "code",
   "execution_count": 55,
   "metadata": {
    "ExecuteTime": {
     "end_time": "2019-12-03T18:17:00.939704Z",
     "start_time": "2019-12-03T18:17:00.922744Z"
    },
    "code_folding": []
   },
   "outputs": [],
   "source": [
    "def egreedy(Q, eps=0.1):\n",
    "    N = Q.shape[0]\n",
    "    u = rnd.rand()\n",
    "    if u < eps:\n",
    "        return rnd.choice(np.arange(0,N))\n",
    "    else:\n",
    "        minimun = np.array(np.argmin(Q)).flatten()\n",
    "        return rnd.choice(minimun)"
   ]
  },
  {
   "cell_type": "markdown",
   "metadata": {},
   "source": [
    "We provide below an example of application of the function with the MDP from Activity 1. Again, use this example as a first \"sanity check\" for your code. You should obtain the same results when `eps=0`. As for the other examples, do not worry if your random state/action generation leads to different outcomes.\n",
    "\n",
    "```python\n",
    "rnd.seed(42)\n",
    "\n",
    "# State 28\n",
    "s = 28\n",
    "a = egreedy(Q[s, :], eps=0)\n",
    "print('State:', M[0][s], '- action:', a, M[1][a]) # Action 2\n",
    "a = egreedy(Q[s, :], eps=0.5)\n",
    "print('State:', M[0][s], '- action:', a, M[1][a]) # Action 2\n",
    "a = egreedy(Q[s, :], eps=1.0)\n",
    "print('State:', M[0][s], '- action:', a, M[1][a]) # Action 2\n",
    "\n",
    "# State 20\n",
    "s = 20\n",
    "a = egreedy(Q[s, :], eps=0)\n",
    "print('State:', M[0][s], '- action:', a, M[1][a]) # Action 3\n",
    "a = egreedy(Q[s, :], eps=0.5)\n",
    "print('State:', M[0][s], '- action:', a, M[1][a]) # Action 2\n",
    "a = egreedy(Q[s, :], eps=1.0)\n",
    "print('State:', M[0][s], '- action:', a, M[1][a]) # Action 1\n",
    "\n",
    "# State 10\n",
    "s = 10\n",
    "a = egreedy(Q[s, :], eps=0)\n",
    "print('State:', M[0][s], '- action:', a, M[1][a]) # Action 2 \n",
    "a = egreedy(Q[s, :], eps=0.5)\n",
    "print('State:', M[0][s], '- action:', a, M[1][a]) # Action 3\n",
    "a = egreedy(Q[s, :], eps=1.0)\n",
    "print('State:', M[0][s], '- action:', a, M[1][a]) # Action 3\n",
    "```\n",
    "\n",
    "Output:\n",
    "\n",
    "```\n",
    "State: (2, T, B) - action: 2 East\n",
    "State: (2, T, B) - action: 2 East\n",
    "State: (2, T, B) - action: 2 East\n",
    "State: (3, T, R) - action: 3 West\n",
    "State: (3, T, R) - action: 2 East\n",
    "State: (3, T, R) - action: 1 South\n",
    "State: (2, B, R) - action: 2 East\n",
    "State: (2, B, R) - action: 3 West\n",
    "State: (2, B, R) - action: 3 West\n",
    "```"
   ]
  },
  {
   "cell_type": "code",
   "execution_count": 57,
   "metadata": {
    "ExecuteTime": {
     "end_time": "2019-12-03T18:17:23.812677Z",
     "start_time": "2019-12-03T18:17:23.733888Z"
    }
   },
   "outputs": [
    {
     "name": "stdout",
     "output_type": "stream",
     "text": [
      "State: (2, T, B) - action: 2 East\n",
      "State: (2, T, B) - action: 2 East\n",
      "State: (2, T, B) - action: 4 Pickup\n",
      "State: (3, T, R) - action: 3 West\n",
      "State: (3, T, R) - action: 2 East\n",
      "State: (3, T, R) - action: 4 Pickup\n",
      "State: (2, B, R) - action: 2 East\n",
      "State: (2, B, R) - action: 2 East\n",
      "State: (2, B, R) - action: 1 South\n"
     ]
    }
   ],
   "source": [
    "rnd.seed(42)\n",
    "\n",
    "# State 28\n",
    "s = 28\n",
    "a = egreedy(Q[s, :], eps=0)\n",
    "print('State:', M[0][s], '- action:', a, M[1][a]) # Action 2\n",
    "a = egreedy(Q[s, :], eps=0.5)\n",
    "print('State:', M[0][s], '- action:', a, M[1][a]) # Action 2\n",
    "a = egreedy(Q[s, :], eps=1.0)\n",
    "print('State:', M[0][s], '- action:', a, M[1][a]) # Action 2\n",
    "\n",
    "# State 20\n",
    "s = 20\n",
    "a = egreedy(Q[s, :], eps=0)\n",
    "print('State:', M[0][s], '- action:', a, M[1][a]) # Action 3\n",
    "a = egreedy(Q[s, :], eps=0.5)\n",
    "print('State:', M[0][s], '- action:', a, M[1][a]) # Action 2\n",
    "a = egreedy(Q[s, :], eps=1.0)\n",
    "print('State:', M[0][s], '- action:', a, M[1][a]) # Action 1\n",
    "\n",
    "# State 10\n",
    "s = 10\n",
    "a = egreedy(Q[s, :], eps=0)\n",
    "print('State:', M[0][s], '- action:', a, M[1][a]) # Action 2 \n",
    "a = egreedy(Q[s, :], eps=0.5)\n",
    "print('State:', M[0][s], '- action:', a, M[1][a]) # Action 3\n",
    "a = egreedy(Q[s, :], eps=1.0)\n",
    "print('State:', M[0][s], '- action:', a, M[1][a]) # Action 3"
   ]
  },
  {
   "cell_type": "markdown",
   "metadata": {},
   "source": [
    "---\n",
    "\n",
    "#### Activity 3. \n",
    "\n",
    "Write a function `mb_learning` that implements the model-based reinforcement learning algorithm discussed in class. Your function should receive as input arguments \n",
    "\n",
    "* A tuple, `mdp`, containing the description of an **arbitrary** MDP. The structure of the tuple is similar to that provided in the example above. \n",
    "* An integer, `n`, corresponding to the number of steps that your algorithm should run.\n",
    "*  A numpy array `qinit` with as many rows as the number of states in `mdp` and as many columns as the number of actions in `mdp`. The matrix `qinit` should be used to initialize the $Q$-function being learned by your function.\n",
    "* A tuple, `Pinit`, with as many elements as the number of actions in `mdp`. Each element of `Pinit` corresponds to a square numpy array with as many rows/columns as the number of states in `mdp` and can be **any** transition probability matrix. The matrices in `Pinit` should be used to initialize the transition probability matrices of the model being learned by your function.\n",
    "* A numpy array `cinit` with as many rows as the number of states in `mdp` and as many columns as the number of actions in `mdp`. The matrix `cinit` should be used to initialize the cost function of the model being learned by your function.\n",
    "\n",
    "Your function should simulate an interaction of `n` steps between the agent and the environment. From this interaction, your function should implement the model-based RL algorithm seen in class. In particular, it should learn the transition probabilities and cost function from the interaction between the agent and the environment, and use these to compute the optimal $Q$-function. The transition probabilities, cost and $Q$-functions to be learned should be initialized using `Pinit`, `cinit` and `qinit`, respectively. \n",
    "\n",
    "Note that, at each step of the interaction,\n",
    "\n",
    "* The agent should observe the current state, $s$, and select an action $a$ using an $\\epsilon$-greedy policy with respect to its current estimate of the optimal $Q$-values. You should use the function `egreedy` from Activity 2, with $\\epsilon=0.15$. \n",
    "* Given the state and action, you must then compute the cost and generate the next state, using `mdp` and the function `sample_transition` from Activity 1.\n",
    "* With this transition information (state, action, cost, next-state), you can now perform an update to the transition probabilities, cost function, and $Q$-function.\n",
    "* When updating the components $(s,a)$ of the model, use the step-size\n",
    "\n",
    "$$\\alpha_t=\\frac{1}{N_t(s,a)+1},$$\n",
    "\n",
    "where $N_t(s,a)$ is the number of visits to the pair $(s,a)$ up to time step $t$.\n",
    "\n",
    "Your function should return a tuple containing:\n",
    "\n",
    "*  A numpy array with as many rows as the number of states in `mdp` and as many columns as the number of actions in `mdp`, corresponding to the learned $Q$-function.\n",
    "* A tuple with as many elements as the number of actions in `mdp`. The element $a$ of the tuple corresponds to a square numpy array with as many rows/columns as the number of states in `mdp`, corresponding to the learned transition probabilities for action $a$.\n",
    "* A numpy array with as many rows as the number of states in `mdp` and as many columns as the number of actions in `mdp`, corresponding to the learned cost function.\n",
    "\n",
    "---"
   ]
  },
  {
   "cell_type": "code",
   "execution_count": null,
   "metadata": {},
   "outputs": [],
   "source": [
    "# Add your code here."
   ]
  },
  {
   "cell_type": "markdown",
   "metadata": {},
   "source": [
    "As an example, you can observe how the error in the estimated $Q$-values evolves with the amount of training. Do not worry if you don't get exactly the same values.\n",
    "\n",
    "```python\n",
    "rnd.seed(42)\n",
    "\n",
    "# Initialize transition probabilities\n",
    "pinit = (np.eye(len(M[0])),) * len(M[1])\n",
    "\n",
    "# Initialize cost function\n",
    "cinit = np.zeros((len(M[0]), len(M[1])))\n",
    "\n",
    "# Initialize Q-function\n",
    "qinit = np.zeros((len(M[0]), len(M[1])))\n",
    "\n",
    "# Run 1000 steps of model-based learning\n",
    "qnew, pnew, cnew = mb_learning(M, 1000, qinit, pinit, cinit)\n",
    "\n",
    "# Compare the learned Q with the optimal Q\n",
    "print('Error in Q after 1000 steps:', np.linalg.norm(qnew - Q))\n",
    "\n",
    "# Run 1000 additional steps of model-based learning\n",
    "qnew, pnew, cnew = mb_learning(M, 1000, qnew, pnew, cnew)\n",
    "\n",
    "# Compare once again the learned Q with the optimal Q\n",
    "print('Error in Q after 2000 steps:', np.linalg.norm(qnew - Q))\n",
    "```\n",
    "\n",
    "Output: \n",
    "```\n",
    "Error in Q after 1000 steps: 49.529110264127944\n",
    "Error in Q after 2000 steps: 39.756231115219606\n",
    "```"
   ]
  },
  {
   "cell_type": "markdown",
   "metadata": {},
   "source": [
    "### 3. Model-free learning\n",
    "\n",
    "You will now implement both $Q$-learning and SARSA."
   ]
  },
  {
   "cell_type": "markdown",
   "metadata": {},
   "source": [
    "---\n",
    "\n",
    "#### Activity 4. \n",
    "\n",
    "Write a function `qlearning` that implements the $Q$-learning algorithm discussed in class. Your function should receive as input arguments \n",
    "\n",
    "* A tuple, `mdp`, containing the description of an **arbitrary** MDP. The structure of the tuple is similar to that provided in the examples above. \n",
    "* An integer, `n`, corresponding to the number of steps that your algorithm should run.\n",
    "*  A `numpy` array `qinit` with as many rows as the number of states in `mdp` and as many columns as the number of actions in `mdp`. The matrix `qinit` should be used to initialize the $Q$-function being learned by your function.\n",
    "\n",
    "Your function should simulate an interaction of `n` steps between the agent and the environment. From this interaction, your function should implement the $Q$-learning algorithm seen in class. In particular, it should learn the optimal $Q$-function. The $Q$-function to be learned should be initialized using `qinit`. \n",
    "\n",
    "Note that, at each step of the interaction,\n",
    "\n",
    "* The agent should observe the current state, $s$, and select an action $a$ using an $\\epsilon$-greedy policy with respect to its current estimate of the optimal $Q$-values. You should use the function `egreedy` from Activity 2, with $\\epsilon=0.15$. \n",
    "* Given the state and action, you must then compute the cost and generate the next state, using `mdp` and the function `sample_transition` from Activity 1.\n",
    "* With this transition information (state, action, cost, next-state), you can now perform an update to the $Q$-function.\n",
    "* When updating the component $(s,a)$ of $Q$, use the step-size $\\alpha=0.3$.\n",
    "\n",
    "Your function should return a `numpy` array with as many rows as the number of states in `mdp` and as many columns as the number of actions in `mdp`, corresponding to the learned $Q$-function.\n",
    "\n",
    "---"
   ]
  },
  {
   "cell_type": "code",
   "execution_count": null,
   "metadata": {},
   "outputs": [],
   "source": [
    "# Add your code here."
   ]
  },
  {
   "cell_type": "markdown",
   "metadata": {},
   "source": [
    "We can observe how the error in the estimated $Q$-values evolves with the amount of training. Do not worry if you don't get exactly the same values.\n",
    "\n",
    "```python\n",
    "rnd.seed(42)\n",
    "\n",
    "# Initialize Q-function\n",
    "qinit = np.zeros((len(M[0]), len(M[1])))\n",
    "\n",
    "# Run 1000 steps of model-based learning\n",
    "qnew = qlearning(M, 1000, qinit)\n",
    "\n",
    "# Compare the learned Q with the optimal Q\n",
    "print('Error in Q after 1000 steps:', np.linalg.norm(qnew - Q))\n",
    "\n",
    "# Run 1000 additional steps of model-based learning\n",
    "qnew = qlearning(M, 1000, qnew)\n",
    "\n",
    "# Compare once again the learned Q with the optimal Q\n",
    "print('Error in Q after 2000 steps:', np.linalg.norm(qnew - Q))\n",
    "```\n",
    "\n",
    "Output: \n",
    "```\n",
    "Error in Q after 1000 steps: 49.48476011362147\n",
    "Error in Q after 2000 steps: 44.932803920823055\n",
    "```"
   ]
  },
  {
   "cell_type": "markdown",
   "metadata": {},
   "source": [
    "---\n",
    "\n",
    "#### Activity 5. \n",
    "\n",
    "Write a function `sarsa` that implements the SARSA algorithm discussed in class. Your function should receive as input arguments \n",
    "\n",
    "* A tuple, `mdp`, containing the description of an **arbitrary** MDP. The structure of the tuple is similar to that provided in the examples above. \n",
    "* An integer, `n`, corresponding to the number of steps that your algorithm should run.\n",
    "*  A `numpy` array `qinit` with as many rows as the number of states in `mdp` and as many columns as the number of actions in `mdp`. The matrix `qinit` should be used to initialize the $Q$-function being learned by your function.\n",
    "\n",
    "Your function should simulate an interaction of `n` steps between the agent and the environment. From this interaction, your function should implement the SARSA algorithm seen in class. The $Q$-function to be learned should be initialized using `qinit`. \n",
    "\n",
    "Note that, at each step of the interaction,\n",
    "\n",
    "* The agent should observe the current state, $s$, and the action $a$ previously selected for this state. If no action has been previously selected, select an action using an $\\epsilon$-greedy policy with respect to its current estimate of the optimal $Q$-values. You should use the function `egreedy` from Activity 2, with $\\epsilon=0.15$. **Do not adjust the value of $\\epsilon$ during learning.**\n",
    "* Given the state and action, you must then compute the cost and generate the next state, using `mdp` and the function `sample_transition` from Activity 1.\n",
    "* After observing the next state, select the corresponding action using an $\\epsilon$-greedy policy with respect to its current estimate of the optimal $Q$-values. Use the function `egreedy` from Activity 2, with $\\epsilon=0.15$.\n",
    "* With this transition information (state, action, cost, next-state, next-action), you can now perform an update to the $Q$-function.\n",
    "* When updating the components $(s,a)$ of $Q$, use the step-size $\\alpha=0.3$.\n",
    "\n",
    "Your function should return a `numpy` array with as many rows as the number of states in `mdp` and as many columns as the number of actions in `mdp`, corresponding to the learned $Q$-function.\n",
    "\n",
    "---"
   ]
  },
  {
   "cell_type": "code",
   "execution_count": null,
   "metadata": {},
   "outputs": [],
   "source": [
    "# Add your code here."
   ]
  },
  {
   "cell_type": "markdown",
   "metadata": {},
   "source": [
    "Again, you can observe how the error in the estimated $Q$-values evolves with the amount of training. Do not worry if you don't get exactly the same values.\n",
    "\n",
    "```python\n",
    "rnd.seed(42)\n",
    "\n",
    "# Initialize Q-function\n",
    "qinit = np.zeros((len(M[0]), len(M[1])))\n",
    "\n",
    "# Run 1000 steps of model-based learning\n",
    "qnew = sarsa(M, 1000, qinit)\n",
    "\n",
    "# Compare the learned Q with the optimal Q\n",
    "print('Error in Q after 1000 steps:', np.linalg.norm(qnew - Q))\n",
    "\n",
    "# Run 1000 additional steps of model-based learning\n",
    "qnew = sarsa(M, 1000, qnew)\n",
    "\n",
    "# Compare once again the learned Q with the optimal Q\n",
    "print('Error in Q after 2000 steps:', np.linalg.norm(qnew - Q))\n",
    "```\n",
    "\n",
    "Output: \n",
    "```\n",
    "Error in Q after 1000 steps: 49.721125901543196\n",
    "Error in Q after 2000 steps: 47.46986233947668\n",
    "```"
   ]
  },
  {
   "cell_type": "markdown",
   "metadata": {},
   "source": [
    "We can run a more comprehensive study of how the different methods perform, by running the following code.\n",
    "\n",
    "```python\n",
    "%matplotlib notebook\n",
    "\n",
    "import matplotlib.pyplot as plt\n",
    "\n",
    "STEPS = 100\n",
    "ITERS = 100\n",
    "RUNS  = 30\n",
    "\n",
    "iters = range(0, STEPS * ITERS + 1, STEPS)\n",
    "\n",
    "# Error matrices\n",
    "Emb = np.zeros(ITERS + 1)\n",
    "Eql = np.zeros(ITERS + 1)\n",
    "Ess = np.zeros(ITERS + 1)\n",
    "\n",
    "Emb[0] = np.linalg.norm(Q) * RUNS\n",
    "Eql[0] = Emb[0]\n",
    "Ess[0] = Emb[0]\n",
    "\n",
    "for n in range (RUNS):\n",
    "\n",
    "    # Initialization\n",
    "    pmb = (np.eye(len(M[0])),) * len(M[1])\n",
    "    cmb = np.zeros((len(M[0]), len(M[1])))\n",
    "    qmb = np.zeros((len(M[0]), len(M[1])))\n",
    "\n",
    "    qql = np.zeros((len(M[0]), len(M[1])))\n",
    "\n",
    "    qss = np.zeros((len(M[0]), len(M[1])))\n",
    "\n",
    "    # Run evaluation\n",
    "    for t in range(ITERS):\n",
    "        qmb, pmb, cmb = mb_learning(M, STEPS, qmb, pmb, cmb)\n",
    "        Emb[t + 1] += np.linalg.norm(Q - qmb)\n",
    "\n",
    "        qql = qlearning(M, STEPS, qql)\n",
    "        Eql[t + 1] += np.linalg.norm(Q - qql)\n",
    "\n",
    "        qss = sarsa(M, STEPS, qss)\n",
    "        Ess[t + 1] += np.linalg.norm(Q - qss)\n",
    "        \n",
    "Emb /= RUNS\n",
    "Eql /= RUNS\n",
    "Ess /= RUNS\n",
    "\n",
    "plt.figure()\n",
    "plt.plot(iters, Emb, label='Model based learning')\n",
    "plt.plot(iters, Eql, label='Q-learning')\n",
    "plt.plot(iters, Ess, label='SARSA')\n",
    "plt.legend()\n",
    "plt.xlabel('N. iterations')\n",
    "plt.ylabel('Error in $Q$-function')\n",
    "plt.show()\n",
    "```\n",
    "\n",
    "Output: \n",
    "\n",
    "<img src=\"plot.jpg\">"
   ]
  },
  {
   "cell_type": "markdown",
   "metadata": {},
   "source": [
    "---\n",
    "\n",
    "#### Activity 6.\n",
    "\n",
    "Discuss the differences observed between the performance of the three methods.\n",
    "\n",
    "---"
   ]
  },
  {
   "cell_type": "markdown",
   "metadata": {},
   "source": [
    "<span style=\"color:blue\">Add your comments here.</span>"
   ]
  }
 ],
 "metadata": {
  "celltoolbar": "Raw Cell Format",
  "kernelspec": {
   "display_name": "Python 3",
   "language": "python",
   "name": "python3"
  },
  "language_info": {
   "codemirror_mode": {
    "name": "ipython",
    "version": 3
   },
   "file_extension": ".py",
   "mimetype": "text/x-python",
   "name": "python",
   "nbconvert_exporter": "python",
   "pygments_lexer": "ipython3",
   "version": "3.7.5"
  },
  "latex_envs": {
   "LaTeX_envs_menu_present": true,
   "autoclose": false,
   "autocomplete": true,
   "bibliofile": "biblio.bib",
   "cite_by": "apalike",
   "current_citInitial": 1,
   "eqLabelWithNumbers": true,
   "eqNumInitial": 1,
   "hotkeys": {
    "equation": "Ctrl-E",
    "itemize": "Ctrl-I"
   },
   "labels_anchors": false,
   "latex_user_defs": false,
   "report_style_numbering": false,
   "user_envs_cfg": false
  },
  "varInspector": {
   "cols": {
    "lenName": 16,
    "lenType": 16,
    "lenVar": 40
   },
   "kernels_config": {
    "python": {
     "delete_cmd_postfix": "",
     "delete_cmd_prefix": "del ",
     "library": "var_list.py",
     "varRefreshCmd": "print(var_dic_list())"
    },
    "r": {
     "delete_cmd_postfix": ") ",
     "delete_cmd_prefix": "rm(",
     "library": "var_list.r",
     "varRefreshCmd": "cat(var_dic_list()) "
    }
   },
   "types_to_exclude": [
    "module",
    "function",
    "builtin_function_or_method",
    "instance",
    "_Feature"
   ],
   "window_display": true
  }
 },
 "nbformat": 4,
 "nbformat_minor": 1
}
